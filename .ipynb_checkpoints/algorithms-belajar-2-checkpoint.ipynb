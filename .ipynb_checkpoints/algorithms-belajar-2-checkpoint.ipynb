{
 "cells": [
  {
   "cell_type": "markdown",
   "metadata": {},
   "source": [
    "### The Time To Words"
   ]
  },
  {
   "cell_type": "code",
   "execution_count": 3,
   "metadata": {},
   "outputs": [
    {
     "name": "stdout",
     "output_type": "stream",
     "text": [
      "Twenty Nine\n"
     ]
    }
   ],
   "source": [
    "num2word = {1: 'one', 2: 'two', 3: 'three', 4: 'four', 5: 'five', \\\n",
    "             6: 'six', 7: 'seven', 8: 'eight', 9: 'nine', 10: 'ten', \\\n",
    "            11: 'eleven', 12: 'twelve', 13: 'thirteen', 14: 'fourteen', \\\n",
    "            15: 'fifteen', 16: 'sixteen', 17: 'seventeen', 18: 'eighteen', \\\n",
    "            19: 'nineteen', 20: 'twenty', 21: 'twenty one', 22: 'twenty two',\\\n",
    "            23: 'twenty three', 24: 'twenty four', 25: 'twenty five',\\\n",
    "            26: 'twenty six', 27: 'twenty seven', 28: 'twenty eight',\\\n",
    "            29: 'twenty nine'}\n",
    "print(num2word[29])"
   ]
  },
  {
   "cell_type": "code",
   "execution_count": 10,
   "metadata": {},
   "outputs": [
    {
     "name": "stdout",
     "output_type": "stream",
     "text": [
      "twenty nine twenty nine o'clock\n"
     ]
    }
   ],
   "source": [
    "ress=num2word[29]+' '+num2word[29]+\" o'clock\"\n",
    "print(ress)"
   ]
  },
  {
   "cell_type": "code",
   "execution_count": 46,
   "metadata": {},
   "outputs": [
    {
     "name": "stdout",
     "output_type": "stream",
     "text": [
      "sixteen minutes to two\n"
     ]
    }
   ],
   "source": [
    "num2word = {1: 'one', 2: 'two', 3: 'three', 4: 'four', 5: 'five', \\\n",
    "             6: 'six', 7: 'seven', 8: 'eight', 9: 'nine', 10: 'ten', \\\n",
    "            11: 'eleven', 12: 'twelve', 13: 'thirteen', 14: 'fourteen', \\\n",
    "            15: 'fifteen', 16: 'sixteen', 17: 'seventeen', 18: 'eighteen', \\\n",
    "            19: 'nineteen', 20: 'twenty', 21: 'twenty one', 22: 'twenty two',\\\n",
    "            23: 'twenty three', 24: 'twenty four', 25: 'twenty five',\\\n",
    "            26: 'twenty six', 27: 'twenty seven', 28: 'twenty eight',\\\n",
    "            29: 'twenty nine'}\n",
    "h=1\n",
    "m=44\n",
    "\n",
    "ress=\"\"\n",
    "if 1<=h and h<=12 and 0<=m and m<60:\n",
    "    if m==0:\n",
    "        ress=num2word[h]+\" o' clock\"\n",
    "    elif m<30:\n",
    "        if m==15:\n",
    "            ress=\"quarter past \"+num2word[h]\n",
    "        elif m==1:\n",
    "            ress=num2word[1]+\" minute past \"+num2word[h]\n",
    "        else:\n",
    "            ress=num2word[m]+\" minutes past \"+num2word[h]\n",
    "    elif m==30:\n",
    "        ress=\"half past \"+num2word[h]\n",
    "    elif m>30:\n",
    "        if m==45:\n",
    "            ress=\"quarter to \"+num2word[h+1]\n",
    "        elif m==59:\n",
    "            ress=num2word[1]+\" minute to \"+num2word[h+1]\n",
    "        else:\n",
    "            ress=num2word[60-m]+\" minutes to \"+num2word[h+1]\n",
    "print(ress)"
   ]
  },
  {
   "cell_type": "markdown",
   "metadata": {},
   "source": [
    "### Count Luck - Ron and Hermione"
   ]
  },
  {
   "cell_type": "markdown",
   "metadata": {},
   "source": [
    "#### search for backtracking algo. That might help!"
   ]
  },
  {
   "cell_type": "code",
   "execution_count": 77,
   "metadata": {},
   "outputs": [
    {
     "name": "stdout",
     "output_type": "stream",
     "text": [
      "[2, 7]\n",
      "[1, 2]\n",
      "[2, 7]\n",
      "M\n"
     ]
    }
   ],
   "source": [
    "matrix = ['.X.X......X','.X*.X.XXX.X', '.XX.X.XM...', '......XXXX.']\n",
    "\n",
    "for i in range(len(matrix)):\n",
    "    lok  = matrix[i].find('M')\n",
    "    if lok > -1:\n",
    "        lokstart=[i,lok]\n",
    "for i in range(len(matrix)):\n",
    "    kol  = matrix[i].find('*')\n",
    "    if kol > -1:\n",
    "        lokkey=[i,kol]\n",
    "now=lokstart\n",
    "countk=0\n",
    "while matrix[now[0]][now[1]] == '*':\n",
    "    yesdot=0\n",
    "    dotlok=[]\n",
    "    if matrix[now[0]][now[1]+1] == '.':\n",
    "        now=[now[0], now[1]+1]\n",
    "        yesdot+=1\n",
    "        dotlok.append[[now[0], now[1]+1]]\n",
    "    if matrix[now[0]][now[1]-1] == '.':\n",
    "        now=[now[0], now[1]-1]\n",
    "        dotlok.append[now]\n",
    "        yesdot+=1\n",
    "        dotlok.append[now]\n",
    "    if matrix[now[0]-1][now[1]] == '.':\n",
    "        now=[now[0]-1, now[1]]\n",
    "        yesdot+=1\n",
    "        dotlok.append[now]\n",
    "    if matrix[now[0]+1][now[1]] == '.':\n",
    "        now=[now[0]+1, now[1]]\n",
    "        yesdot+=1\n",
    "        dotlok.append[now]\n",
    "    for i in range(len(dotlok))\n",
    "    \n",
    "    if yesdot>1:\n",
    "        countk+=1\n",
    "        if matrix[now[0]][now[1]+1] == '.':\n",
    "            now=[now[0], now[1]+1]\n",
    "            yesdot+=1\n",
    "        if matrix[now[0]][now[1]-1] == '.':\n",
    "            now=[now[0], now[1]-1]\n",
    "            yesdot+=1\n",
    "        if matrix[now[0]-1][now[1]] == '.':\n",
    "            now=[now[0]-1, now[1]]\n",
    "            yesdot+=1\n",
    "        if matrix[now[0]+1][now[1]] == '.':\n",
    "            now=[now[0]+1, now[1]]\n",
    "            yesdot+=1\n",
    "        \n",
    "print(lokstart)\n",
    "print(lokkey)\n",
    "print(now)\n",
    "print(matrix[now[0]][now[1]])"
   ]
  },
  {
   "cell_type": "code",
   "execution_count": 62,
   "metadata": {},
   "outputs": [
    {
     "data": {
      "text/plain": [
       "-1"
      ]
     },
     "execution_count": 62,
     "metadata": {},
     "output_type": "execute_result"
    }
   ],
   "source": [
    "'adinoz'.find('l')  #find location of a char in string"
   ]
  },
  {
   "cell_type": "code",
   "execution_count": null,
   "metadata": {},
   "outputs": [],
   "source": [
    "matrix = ['.X.X......X','.X*.X.XXX.X', '.XX.X.XM...', '......XXXX.']\n"
   ]
  },
  {
   "cell_type": "code",
   "execution_count": 73,
   "metadata": {},
   "outputs": [
    {
     "data": {
      "text/plain": [
       "'o'"
      ]
     },
     "execution_count": 73,
     "metadata": {},
     "output_type": "execute_result"
    }
   ],
   "source": [
    "x=['adinda','kompas']\n",
    "x[1][1]"
   ]
  },
  {
   "cell_type": "code",
   "execution_count": 69,
   "metadata": {},
   "outputs": [
    {
     "data": {
      "text/plain": [
       "'a'"
      ]
     },
     "execution_count": 69,
     "metadata": {},
     "output_type": "execute_result"
    }
   ],
   "source": [
    "x='adinda'\n",
    "\n",
    "x[0]"
   ]
  },
  {
   "cell_type": "code",
   "execution_count": 80,
   "metadata": {},
   "outputs": [
    {
     "name": "stdout",
     "output_type": "stream",
     "text": [
      "[1, 3]\n"
     ]
    }
   ],
   "source": [
    "m=[1,2]\n",
    "newm=[m[0],m[1]+1]\n",
    "print(newm)"
   ]
  },
  {
   "cell_type": "code",
   "execution_count": 83,
   "metadata": {},
   "outputs": [
    {
     "ename": "TypeError",
     "evalue": "list indices must be integers or slices, not list",
     "output_type": "error",
     "traceback": [
      "\u001b[1;31m---------------------------------------------------------------------------\u001b[0m",
      "\u001b[1;31mTypeError\u001b[0m                                 Traceback (most recent call last)",
      "\u001b[1;32m<ipython-input-83-96d6139cd31e>\u001b[0m in \u001b[0;36m<module>\u001b[1;34m\u001b[0m\n\u001b[0;32m      2\u001b[0m \u001b[0mp\u001b[0m\u001b[1;33m=\u001b[0m\u001b[1;33m[\u001b[0m\u001b[1;33m[\u001b[0m\u001b[1;36m1\u001b[0m\u001b[1;33m]\u001b[0m\u001b[1;33m,\u001b[0m\u001b[1;33m[\u001b[0m\u001b[1;36m1\u001b[0m\u001b[1;33m]\u001b[0m\u001b[1;33m]\u001b[0m\u001b[1;33m\u001b[0m\u001b[1;33m\u001b[0m\u001b[0m\n\u001b[0;32m      3\u001b[0m \u001b[0mx\u001b[0m\u001b[1;33m[\u001b[0m\u001b[1;36m1\u001b[0m\u001b[1;33m]\u001b[0m\u001b[1;33m[\u001b[0m\u001b[1;36m1\u001b[0m\u001b[1;33m]\u001b[0m\u001b[1;33m\u001b[0m\u001b[1;33m\u001b[0m\u001b[0m\n\u001b[1;32m----> 4\u001b[1;33m \u001b[0mx\u001b[0m\u001b[1;33m[\u001b[0m\u001b[0mp\u001b[0m\u001b[1;33m]\u001b[0m\u001b[1;33m\u001b[0m\u001b[1;33m\u001b[0m\u001b[0m\n\u001b[0m",
      "\u001b[1;31mTypeError\u001b[0m: list indices must be integers or slices, not list"
     ]
    }
   ],
   "source": [
    "x=['adinda','kompas']\n",
    "p=[[1],[1]]\n",
    "x[1][1]\n",
    "x[p]"
   ]
  },
  {
   "cell_type": "code",
   "execution_count": 86,
   "metadata": {},
   "outputs": [
    {
     "name": "stdout",
     "output_type": "stream",
     "text": [
      "[[1, 3]]\n"
     ]
    }
   ],
   "source": [
    "x=[]\n",
    "y=[1,2]\n",
    "x.append([1,3])\n",
    "print(x)"
   ]
  },
  {
   "cell_type": "markdown",
   "metadata": {},
   "source": [
    "### Bon Appetit"
   ]
  },
  {
   "cell_type": "code",
   "execution_count": 6,
   "metadata": {},
   "outputs": [
    {
     "name": "stdout",
     "output_type": "stream",
     "text": [
      "Bon Appetit\n"
     ]
    }
   ],
   "source": [
    "bill=[3,10,2,9]\n",
    "k=1\n",
    "b=7\n",
    "diff=abs(b-((sum(bill)-bill[k])/2))\n",
    "if diff==0:\n",
    "    ress='Bon Appetit'\n",
    "elif diff!=0:\n",
    "    ress=diff\n",
    "print(ress)"
   ]
  },
  {
   "cell_type": "code",
   "execution_count": 2,
   "metadata": {},
   "outputs": [
    {
     "name": "stdout",
     "output_type": "stream",
     "text": [
      "11\n"
     ]
    }
   ],
   "source": [
    "bill=[1,10]\n",
    "print(sum(bill))"
   ]
  },
  {
   "cell_type": "markdown",
   "metadata": {},
   "source": [
    "### Counting Valley"
   ]
  },
  {
   "cell_type": "code",
   "execution_count": 12,
   "metadata": {},
   "outputs": [
    {
     "name": "stdout",
     "output_type": "stream",
     "text": [
      "2\n"
     ]
    }
   ],
   "source": [
    "n=8\n",
    "s='UDDDUDUU'\n",
    "frst = s.count('DU')\n",
    "print(frst)"
   ]
  },
  {
   "cell_type": "code",
   "execution_count": 9,
   "metadata": {},
   "outputs": [
    {
     "data": {
      "text/plain": [
       "4"
      ]
     },
     "execution_count": 9,
     "metadata": {},
     "output_type": "execute_result"
    }
   ],
   "source": [
    "s='adedodode'\n",
    "s.count('d')"
   ]
  },
  {
   "cell_type": "code",
   "execution_count": 19,
   "metadata": {},
   "outputs": [
    {
     "name": "stdout",
     "output_type": "stream",
     "text": [
      "Jumlah lembah yang dilewati:  1\n",
      "Jumlah gunung yang dilewati:  1\n",
      "[1, -1, -1, -1, 1, -1, 1, 1]\n"
     ]
    }
   ],
   "source": [
    "n=8\n",
    "s='UDDDUDUU'\n",
    "tot=[]\n",
    "for i in s:\n",
    "    if i=='U':\n",
    "        tot.append(1)\n",
    "    elif i=='D':\n",
    "        tot.append(-1)\n",
    "sum=0\n",
    "gun,lem=0,0\n",
    "for k in tot:\n",
    "    sum+=k\n",
    "    if k<0 and sum==0:\n",
    "        gun+=1\n",
    "    elif k>0 and sum==0:\n",
    "        lem+=1\n",
    "print(\"Jumlah lembah yang dilewati: \",lem)\n",
    "print(\"Jumlah gunung yang dilewati: \",gun)\n",
    "        \n",
    "print(tot)"
   ]
  },
  {
   "cell_type": "markdown",
   "metadata": {},
   "source": [
    "### Cat and Mouse"
   ]
  },
  {
   "cell_type": "code",
   "execution_count": 21,
   "metadata": {},
   "outputs": [
    {
     "name": "stdout",
     "output_type": "stream",
     "text": [
      "Cat B\n"
     ]
    }
   ],
   "source": [
    "x,y,z = 1,2,3\n",
    "ja1=abs(x-z)\n",
    "ja2=abs(y-z)\n",
    "if ja1==ja2:\n",
    "    ress='Mouse C'\n",
    "elif ja1<ja2:\n",
    "    ress='Cat A'\n",
    "elif ja1>ja2:\n",
    "    ress='Cat B'\n",
    "print(ress)"
   ]
  },
  {
   "cell_type": "markdown",
   "metadata": {},
   "source": [
    "### Angry Professor"
   ]
  },
  {
   "cell_type": "code",
   "execution_count": 26,
   "metadata": {},
   "outputs": [
    {
     "name": "stdout",
     "output_type": "stream",
     "text": [
      "NO\n"
     ]
    }
   ],
   "source": [
    "k=1\n",
    "a=[-1,-1,-1,-1]\n",
    "ontime=0\n",
    "for i in a:\n",
    "    if i<=0:\n",
    "        ontime+=1\n",
    "if ontime>=k:\n",
    "    ress='NO'\n",
    "else:\n",
    "    ress='YES'\n",
    "print(ress)"
   ]
  },
  {
   "cell_type": "markdown",
   "metadata": {},
   "source": [
    "### The Hurdle Race"
   ]
  },
  {
   "cell_type": "code",
   "execution_count": 30,
   "metadata": {},
   "outputs": [
    {
     "name": "stdout",
     "output_type": "stream",
     "text": [
      "2\n"
     ]
    }
   ],
   "source": [
    "k=4\n",
    "height=[1,6,3,5,2]\n",
    "ress=max(height)-k\n",
    "if ress<=0:\n",
    "    drink=0\n",
    "else:\n",
    "    drink=ress\n",
    "print(drink)"
   ]
  },
  {
   "cell_type": "markdown",
   "metadata": {},
   "source": [
    "### Drawing Book"
   ]
  },
  {
   "cell_type": "code",
   "execution_count": null,
   "metadata": {},
   "outputs": [],
   "source": [
    "1 - 1 = 0\n",
    "1 - 2 = 1\n",
    "1 - 3 = 1\n",
    "1 - 4 = 2\n",
    "1 - 5 = 2\n",
    "1 - 6 = 3\n",
    "1 - 7 = 3\n",
    "\n",
    "2 - 1 = 0\n",
    "2 - 2 = 0\n",
    "2 - 3 = 1\n",
    "2 - 4 = 1\n",
    "2 - 5 = 2\n",
    "2 - 6 = 2\n",
    "2 - 7 = 3\n",
    "\n",
    "\n",
    "7 - 6 = 0\n",
    "7 - 5 = 1\n",
    "7 - 4 = 1\n",
    "7 - 3 = 2\n",
    "7 - 2 = 2\n",
    "7 - 1 = 3"
   ]
  },
  {
   "cell_type": "code",
   "execution_count": 57,
   "metadata": {},
   "outputs": [
    {
     "name": "stdout",
     "output_type": "stream",
     "text": [
      "1\n"
     ]
    }
   ],
   "source": [
    "n=5\n",
    "p=3\n",
    "akhir=(n-p)/2\n",
    "awal=p/2\n",
    "print(int(min(akhir,awal)))"
   ]
  },
  {
   "cell_type": "markdown",
   "metadata": {},
   "source": [
    "### Strong Password"
   ]
  },
  {
   "cell_type": "code",
   "execution_count": 1,
   "metadata": {},
   "outputs": [
    {
     "name": "stdout",
     "output_type": "stream",
     "text": [
      "0\n"
     ]
    }
   ],
   "source": [
    "n=11\n",
    "password='#HackerRank'\n",
    "ress=0\n",
    "if n<11:\n",
    "    ress=abs(n-6)\n",
    "\n",
    "print(ress)"
   ]
  },
  {
   "cell_type": "code",
   "execution_count": 12,
   "metadata": {},
   "outputs": [
    {
     "ename": "AttributeError",
     "evalue": "'str' object has no attribute 'isLower'",
     "output_type": "error",
     "traceback": [
      "\u001b[1;31m---------------------------------------------------------------------------\u001b[0m",
      "\u001b[1;31mAttributeError\u001b[0m                            Traceback (most recent call last)",
      "\u001b[1;32m<ipython-input-12-7bf5d0b9d062>\u001b[0m in \u001b[0;36m<module>\u001b[1;34m\u001b[0m\n\u001b[0;32m      1\u001b[0m \u001b[0ms\u001b[0m\u001b[1;33m=\u001b[0m\u001b[1;34m'sd:'\u001b[0m\u001b[1;33m\u001b[0m\u001b[1;33m\u001b[0m\u001b[0m\n\u001b[0;32m      2\u001b[0m \u001b[0mhasdigit\u001b[0m\u001b[1;33m=\u001b[0m\u001b[0many\u001b[0m\u001b[1;33m(\u001b[0m\u001b[0mi\u001b[0m\u001b[1;33m.\u001b[0m\u001b[0misdigit\u001b[0m\u001b[1;33m(\u001b[0m\u001b[1;33m)\u001b[0m \u001b[1;32mfor\u001b[0m \u001b[0mi\u001b[0m \u001b[1;32min\u001b[0m \u001b[0ms\u001b[0m\u001b[1;33m)\u001b[0m\u001b[1;33m\u001b[0m\u001b[1;33m\u001b[0m\u001b[0m\n\u001b[1;32m----> 3\u001b[1;33m \u001b[0mhaslower\u001b[0m\u001b[1;33m=\u001b[0m\u001b[0many\u001b[0m\u001b[1;33m(\u001b[0m\u001b[0mstr\u001b[0m\u001b[1;33m(\u001b[0m\u001b[0mi\u001b[0m\u001b[1;33m)\u001b[0m\u001b[1;33m.\u001b[0m\u001b[0misLower\u001b[0m\u001b[1;33m(\u001b[0m\u001b[1;33m)\u001b[0m \u001b[1;32mfor\u001b[0m \u001b[0mi\u001b[0m \u001b[1;32min\u001b[0m \u001b[0ms\u001b[0m\u001b[1;33m)\u001b[0m\u001b[1;33m\u001b[0m\u001b[1;33m\u001b[0m\u001b[0m\n\u001b[0m\u001b[0;32m      4\u001b[0m \u001b[0mhasupper\u001b[0m\u001b[1;33m=\u001b[0m\u001b[0many\u001b[0m\u001b[1;33m(\u001b[0m\u001b[0mi\u001b[0m\u001b[1;33m.\u001b[0m\u001b[0misUpper\u001b[0m\u001b[1;33m(\u001b[0m\u001b[1;33m)\u001b[0m \u001b[1;32mfor\u001b[0m \u001b[0mi\u001b[0m \u001b[1;32min\u001b[0m \u001b[0ms\u001b[0m\u001b[1;33m)\u001b[0m\u001b[1;33m\u001b[0m\u001b[1;33m\u001b[0m\u001b[0m\n\u001b[0;32m      5\u001b[0m \u001b[0mprint\u001b[0m\u001b[1;33m(\u001b[0m\u001b[0mhaslower\u001b[0m\u001b[1;33m)\u001b[0m\u001b[1;33m\u001b[0m\u001b[1;33m\u001b[0m\u001b[0m\n",
      "\u001b[1;32m<ipython-input-12-7bf5d0b9d062>\u001b[0m in \u001b[0;36m<genexpr>\u001b[1;34m(.0)\u001b[0m\n\u001b[0;32m      1\u001b[0m \u001b[0ms\u001b[0m\u001b[1;33m=\u001b[0m\u001b[1;34m'sd:'\u001b[0m\u001b[1;33m\u001b[0m\u001b[1;33m\u001b[0m\u001b[0m\n\u001b[0;32m      2\u001b[0m \u001b[0mhasdigit\u001b[0m\u001b[1;33m=\u001b[0m\u001b[0many\u001b[0m\u001b[1;33m(\u001b[0m\u001b[0mi\u001b[0m\u001b[1;33m.\u001b[0m\u001b[0misdigit\u001b[0m\u001b[1;33m(\u001b[0m\u001b[1;33m)\u001b[0m \u001b[1;32mfor\u001b[0m \u001b[0mi\u001b[0m \u001b[1;32min\u001b[0m \u001b[0ms\u001b[0m\u001b[1;33m)\u001b[0m\u001b[1;33m\u001b[0m\u001b[1;33m\u001b[0m\u001b[0m\n\u001b[1;32m----> 3\u001b[1;33m \u001b[0mhaslower\u001b[0m\u001b[1;33m=\u001b[0m\u001b[0many\u001b[0m\u001b[1;33m(\u001b[0m\u001b[0mstr\u001b[0m\u001b[1;33m(\u001b[0m\u001b[0mi\u001b[0m\u001b[1;33m)\u001b[0m\u001b[1;33m.\u001b[0m\u001b[0misLower\u001b[0m\u001b[1;33m(\u001b[0m\u001b[1;33m)\u001b[0m \u001b[1;32mfor\u001b[0m \u001b[0mi\u001b[0m \u001b[1;32min\u001b[0m \u001b[0ms\u001b[0m\u001b[1;33m)\u001b[0m\u001b[1;33m\u001b[0m\u001b[1;33m\u001b[0m\u001b[0m\n\u001b[0m\u001b[0;32m      4\u001b[0m \u001b[0mhasupper\u001b[0m\u001b[1;33m=\u001b[0m\u001b[0many\u001b[0m\u001b[1;33m(\u001b[0m\u001b[0mi\u001b[0m\u001b[1;33m.\u001b[0m\u001b[0misUpper\u001b[0m\u001b[1;33m(\u001b[0m\u001b[1;33m)\u001b[0m \u001b[1;32mfor\u001b[0m \u001b[0mi\u001b[0m \u001b[1;32min\u001b[0m \u001b[0ms\u001b[0m\u001b[1;33m)\u001b[0m\u001b[1;33m\u001b[0m\u001b[1;33m\u001b[0m\u001b[0m\n\u001b[0;32m      5\u001b[0m \u001b[0mprint\u001b[0m\u001b[1;33m(\u001b[0m\u001b[0mhaslower\u001b[0m\u001b[1;33m)\u001b[0m\u001b[1;33m\u001b[0m\u001b[1;33m\u001b[0m\u001b[0m\n",
      "\u001b[1;31mAttributeError\u001b[0m: 'str' object has no attribute 'isLower'"
     ]
    }
   ],
   "source": [
    "s='sd:'\n",
    "hasdigit=any(i.isdigit() for i in s)\n",
    "haslower=any(str(i).isLower() for i in s)\n",
    "hasupper=any(i.isUpper() for i in s)\n",
    "print(haslower)"
   ]
  },
  {
   "cell_type": "code",
   "execution_count": null,
   "metadata": {},
   "outputs": [],
   "source": [
    "s='sdfe:'\n",
    "if re.match(r'^\\w+$', s):"
   ]
  },
  {
   "cell_type": "code",
   "execution_count": 58,
   "metadata": {},
   "outputs": [
    {
     "name": "stdout",
     "output_type": "stream",
     "text": [
      "0\n",
      "1 5\n"
     ]
    }
   ],
   "source": [
    "n=11\n",
    "s='#HackerRank'\n",
    "numbers = \"0123456789\"\n",
    "lower_case = \"abcdefghijklmnopqrstuvwxyz\"\n",
    "upper_case = \"ABCDEFGHIJKLMNOPQRSTUVWXYZ\"\n",
    "special_characters = \"!@#$%^&*()-+\"\n",
    "\n",
    "countnumb, countlower, countupper, countsp=0,0,0,0\n",
    "for i in s:\n",
    "    if i in numbers and countnumb<1:\n",
    "        countnumb+=1\n",
    "    if i in lower_case and countlower<1:\n",
    "        countlower+=1\n",
    "    if i in upper_case and countupper<1:\n",
    "        countupper+=1\n",
    "    if i in special_characters and countsp<1:\n",
    "        countsp+=1\n",
    "plusnumb,pluslower,plusupper,plussp=0,0,0,0\n",
    "if countnumb==0:\n",
    "    countnumb=1\n",
    "if countlower==0:\n",
    "    pluslower=1\n",
    "if countupper==0:\n",
    "    plusupper=1\n",
    "if countsp==0:\n",
    "    plussp=1\n",
    "allct=countnumb+pluslower+plusupper+plussp\n",
    "dfnumb=n-6\n",
    "ress=0\n",
    "if allct>abs(dfnumb) and dfnumb<0:\n",
    "    ress=allct\n",
    "elif allct<abs(dfnumb) and dfnumb<0:\n",
    "    ress=dfnumb\n",
    "elif allct>abs(dfnumb) and dfnumb>0:\n",
    "    ress=allct\n",
    "\n",
    "print(ress)\n",
    "print(allct,dfnumb)"
   ]
  },
  {
   "cell_type": "code",
   "execution_count": 106,
   "metadata": {},
   "outputs": [
    {
     "name": "stdout",
     "output_type": "stream",
     "text": [
      "result:  0\n",
      "0 2\n",
      "0 0 0 0\n",
      "1 1 1 1\n"
     ]
    }
   ],
   "source": [
    "n=8\n",
    "s='Abcdef2!'\n",
    "numbers = \"0123456789\"\n",
    "lower_case = \"abcdefghijklmnopqrstuvwxyz\"\n",
    "upper_case = \"ABCDEFGHIJKLMNOPQRSTUVWXYZ\"\n",
    "special_characters = \"!@#$%^&*()-+\"\n",
    "\n",
    "countnumb, countlower, countupper, countsp=0,0,0,0\n",
    "for i in s:\n",
    "    if i in numbers and countnumb<1:\n",
    "        countnumb+=1\n",
    "    if i in lower_case and countlower<1:\n",
    "        countlower+=1\n",
    "    if i in upper_case and countupper<1:\n",
    "        countupper+=1\n",
    "    if i in special_characters and countsp<1:\n",
    "        countsp+=1\n",
    "plusnumb,pluslower,plusupper,plussp=0,0,0,0\n",
    "if countnumb==0:\n",
    "    plusnumb=1\n",
    "if countlower==0:\n",
    "    pluslower=1\n",
    "if countupper==0:\n",
    "    plusupper=1\n",
    "if countsp==0:\n",
    "    plussp=1\n",
    "allct=plusnumb+pluslower+plusupper+plussp\n",
    "dfnumb=n-6\n",
    "ress=0\n",
    "if dfnumb<0:\n",
    "    if abs(dfnumb)>allct:\n",
    "        ress=abs(dfnumb)\n",
    "    elif abs(dfnumb)<allct:\n",
    "        ress=allct\n",
    "elif dfnumb>=0:\n",
    "    ress=allct\n",
    "\n",
    "print(\"result: \",ress)\n",
    "print(allct,dfnumb)\n",
    "print(plusnumb,pluslower,plusupper,plussp)\n",
    "print(countnumb, countlower, countupper, countsp)"
   ]
  },
  {
   "cell_type": "code",
   "execution_count": null,
   "metadata": {},
   "outputs": [],
   "source": [
    "n=6\n",
    "s='Abbb2!'\n",
    "# 0\n",
    "# allct 0\n",
    "# dfnumb 0"
   ]
  },
  {
   "cell_type": "code",
   "execution_count": null,
   "metadata": {},
   "outputs": [],
   "source": [
    "n=7\n",
    "s='Abcde2!'\n",
    "# 0\n",
    "# allct 0\n",
    "# dfnumb 1"
   ]
  },
  {
   "cell_type": "code",
   "execution_count": null,
   "metadata": {},
   "outputs": [],
   "source": [
    "n=8\n",
    "s='Abcdef2!'\n",
    "# 0\n",
    "# allct 0\n",
    "# dfnumb 2"
   ]
  },
  {
   "cell_type": "code",
   "execution_count": null,
   "metadata": {},
   "outputs": [],
   "source": [
    "n=8\n",
    "s='Abcdef2b'\n",
    "# 1\n",
    "# allct 1\n",
    "# dfnumb 2"
   ]
  },
  {
   "cell_type": "code",
   "execution_count": null,
   "metadata": {},
   "outputs": [],
   "source": [
    "n=8\n",
    "s='abcdef2b'\n",
    "# 2\n",
    "# allct 2\n",
    "# dfnumb 2"
   ]
  },
  {
   "cell_type": "code",
   "execution_count": null,
   "metadata": {},
   "outputs": [],
   "source": [
    "n=8\n",
    "s='abcdefbb'\n",
    "# 3\n",
    "# allct 3\n",
    "# dfnumb 2"
   ]
  },
  {
   "cell_type": "code",
   "execution_count": null,
   "metadata": {},
   "outputs": [],
   "source": [
    "n=5\n",
    "s='123Ab'\n",
    "# 1\n",
    "# allct 1\n",
    "# dfnumb -1"
   ]
  },
  {
   "cell_type": "code",
   "execution_count": null,
   "metadata": {},
   "outputs": [],
   "source": [
    "n=5\n",
    "s='123ab'\n",
    "# 2\n",
    "#hasilnya salah, 2\n",
    "# allct 2\n",
    "# dfnumb -1"
   ]
  },
  {
   "cell_type": "code",
   "execution_count": null,
   "metadata": {},
   "outputs": [],
   "source": [
    "n=5\n",
    "s='abcde'\n",
    "# 3\n",
    "#hasilnya salah, 2\n",
    "# allct 3\n",
    "# dfnumb -1"
   ]
  },
  {
   "cell_type": "code",
   "execution_count": null,
   "metadata": {},
   "outputs": [],
   "source": [
    "n=3\n",
    "s='1Aa'\n",
    "# 3\n",
    "# allct 1\n",
    "# dfnumb -3"
   ]
  },
  {
   "cell_type": "code",
   "execution_count": null,
   "metadata": {},
   "outputs": [],
   "source": [
    "n=3\n",
    "s='1aa'\n",
    "# 3\n",
    "# allct 2\n",
    "# dfnumb -3"
   ]
  },
  {
   "cell_type": "code",
   "execution_count": null,
   "metadata": {},
   "outputs": [],
   "source": [
    "n=3\n",
    "s='aaa'\n",
    "# 3\n",
    "# allct 3\n",
    "# dfnumb -3"
   ]
  },
  {
   "cell_type": "code",
   "execution_count": null,
   "metadata": {},
   "outputs": [],
   "source": [
    "n=0\n",
    "s=''\n",
    "# 6\n",
    "# allct 4\n",
    "# dfnumb -6"
   ]
  },
  {
   "cell_type": "code",
   "execution_count": 118,
   "metadata": {},
   "outputs": [
    {
     "name": "stdout",
     "output_type": "stream",
     "text": [
      "result:  2\n",
      "2 -1\n",
      "0 0 1 1\n",
      "1 1 0 0\n"
     ]
    }
   ],
   "source": [
    "n=5\n",
    "s='123ab'\n",
    "numbers = \"0123456789\"\n",
    "lower_case = \"abcdefghijklmnopqrstuvwxyz\"\n",
    "upper_case = \"ABCDEFGHIJKLMNOPQRSTUVWXYZ\"\n",
    "special_characters = \"!@#$%^&*()-+\"\n",
    "\n",
    "countnumb, countlower, countupper, countsp=0,0,0,0\n",
    "for i in s:\n",
    "    if i in numbers and countnumb<1:\n",
    "        countnumb+=1\n",
    "    if i in lower_case and countlower<1:\n",
    "        countlower+=1\n",
    "    if i in upper_case and countupper<1:\n",
    "        countupper+=1\n",
    "    if i in special_characters and countsp<1:\n",
    "        countsp+=1\n",
    "plusnumb,pluslower,plusupper,plussp=0,0,0,0\n",
    "if countnumb==0:\n",
    "    plusnumb=1\n",
    "if countlower==0:\n",
    "    pluslower=1\n",
    "if countupper==0:\n",
    "    plusupper=1\n",
    "if countsp==0:\n",
    "    plussp=1\n",
    "allct=plusnumb+pluslower+plusupper+plussp\n",
    "dfnumb=n-6\n",
    "ress=0\n",
    "if dfnumb<0:\n",
    "    if abs(dfnumb)>allct:\n",
    "        ress=abs(dfnumb)\n",
    "    elif abs(dfnumb)<allct:\n",
    "        ress=allct\n",
    "    elif abs(dfnumb)==allct:\n",
    "        ress=abs(dfnumb)\n",
    "elif dfnumb>=0:\n",
    "        ress=allct\n",
    "\n",
    "print(\"result: \",ress)\n",
    "print(allct,dfnumb)\n",
    "print(plusnumb,pluslower,plusupper,plussp)\n",
    "print(countnumb, countlower, countupper, countsp)"
   ]
  },
  {
   "cell_type": "code",
   "execution_count": 102,
   "metadata": {},
   "outputs": [
    {
     "data": {
      "text/plain": [
       "0"
      ]
     },
     "execution_count": 102,
     "metadata": {},
     "output_type": "execute_result"
    }
   ],
   "source": [
    "minimumNumber(7,'Abcde2!')"
   ]
  },
  {
   "cell_type": "code",
   "execution_count": 100,
   "metadata": {},
   "outputs": [
    {
     "data": {
      "text/plain": [
       "0"
      ]
     },
     "execution_count": 100,
     "metadata": {},
     "output_type": "execute_result"
    }
   ],
   "source": [
    "minimumNumber(7,'Abcde2!')"
   ]
  },
  {
   "cell_type": "code",
   "execution_count": null,
   "metadata": {},
   "outputs": [],
   "source": []
  }
 ],
 "metadata": {
  "kernelspec": {
   "display_name": "Python 3",
   "language": "python",
   "name": "python3"
  },
  "language_info": {
   "codemirror_mode": {
    "name": "ipython",
    "version": 3
   },
   "file_extension": ".py",
   "mimetype": "text/x-python",
   "name": "python",
   "nbconvert_exporter": "python",
   "pygments_lexer": "ipython3",
   "version": "3.7.3"
  }
 },
 "nbformat": 4,
 "nbformat_minor": 2
}
