{
 "cells": [
  {
   "cell_type": "markdown",
   "metadata": {},
   "source": [
    "## Slicing String Method"
   ]
  },
  {
   "cell_type": "code",
   "execution_count": 2,
   "metadata": {},
   "outputs": [
    {
     "name": "stdout",
     "output_type": "stream",
     "text": [
      "12345\n"
     ]
    }
   ],
   "source": [
    "s='123456789'\n",
    "ress=s[:5]\n",
    "print(ress)"
   ]
  },
  {
   "cell_type": "code",
   "execution_count": 3,
   "metadata": {},
   "outputs": [
    {
     "name": "stdout",
     "output_type": "stream",
     "text": [
      "3456789\n"
     ]
    }
   ],
   "source": [
    "s='123456789'\n",
    "ress=s[2:]\n",
    "print(ress)"
   ]
  },
  {
   "cell_type": "code",
   "execution_count": 4,
   "metadata": {},
   "outputs": [
    {
     "name": "stdout",
     "output_type": "stream",
     "text": [
      "147\n"
     ]
    }
   ],
   "source": [
    "s='123456789'\n",
    "ress=s[0:10:3]\n",
    "print(ress)"
   ]
  },
  {
   "cell_type": "code",
   "execution_count": 9,
   "metadata": {},
   "outputs": [
    {
     "name": "stdout",
     "output_type": "stream",
     "text": [
      "975\n"
     ]
    }
   ],
   "source": [
    "s='123456789'\n",
    "ress=s[10:2:-2]\n",
    "print(ress)"
   ]
  },
  {
   "cell_type": "code",
   "execution_count": 10,
   "metadata": {},
   "outputs": [
    {
     "name": "stdout",
     "output_type": "stream",
     "text": [
      "bbbbbbb\n"
     ]
    }
   ],
   "source": [
    "# print dari belakang dengan selisih 2\n",
    "s='ababababababab'\n",
    "ress=s[::-2]\n",
    "print(ress)"
   ]
  },
  {
   "cell_type": "code",
   "execution_count": 12,
   "metadata": {},
   "outputs": [
    {
     "name": "stdout",
     "output_type": "stream",
     "text": [
      "ccbbaaccbbaa\n"
     ]
    }
   ],
   "source": [
    "# print string dari belakang\n",
    "s='aabbccaabbcc'\n",
    "ress=s[::-1]\n",
    "print(ress)"
   ]
  },
  {
   "cell_type": "code",
   "execution_count": 14,
   "metadata": {},
   "outputs": [
    {
     "name": "stdout",
     "output_type": "stream",
     "text": [
      "\n"
     ]
    }
   ],
   "source": [
    "# range nya menunjukkan untuk di print dari belakang ke depan\n",
    "# tapi [a:b:c], 'c' nya tidak negatif sehingga tidak keluar apa2\n",
    "s='bboobboobboo'\n",
    "ress=s[:0:2]\n",
    "print(ress)"
   ]
  },
  {
   "cell_type": "markdown",
   "metadata": {},
   "source": [
    "## String Join Method"
   ]
  },
  {
   "cell_type": "code",
   "execution_count": 6,
   "metadata": {},
   "outputs": [
    {
     "name": "stdout",
     "output_type": "stream",
     "text": [
      "a  b  c\n"
     ]
    }
   ],
   "source": [
    "s=['a','b','c']\n",
    "new='  '.join(s)\n",
    "print(new)"
   ]
  },
  {
   "cell_type": "code",
   "execution_count": 7,
   "metadata": {},
   "outputs": [
    {
     "name": "stdout",
     "output_type": "stream",
     "text": [
      "a--b--c\n"
     ]
    }
   ],
   "source": [
    "s=['a','b','c']\n",
    "new='--'.join(s)\n",
    "print(new)"
   ]
  },
  {
   "cell_type": "markdown",
   "metadata": {},
   "source": [
    "## Capitalize First Letter"
   ]
  },
  {
   "cell_type": "code",
   "execution_count": 9,
   "metadata": {},
   "outputs": [
    {
     "name": "stdout",
     "output_type": "stream",
     "text": [
      "Dear john, so many things happen and you are not here. see you soon john.\n"
     ]
    }
   ],
   "source": [
    "s='dear john, so many things happen and you are not here. see you soon john.'\n",
    "new=s.capitalize()\n",
    "print(new)"
   ]
  },
  {
   "cell_type": "code",
   "execution_count": 11,
   "metadata": {},
   "outputs": [
    {
     "name": "stdout",
     "output_type": "stream",
     "text": [
      "Dear john\n"
     ]
    }
   ],
   "source": [
    "s='dear JOHN'\n",
    "new=s.capitalize()\n",
    "print(new)"
   ]
  },
  {
   "cell_type": "markdown",
   "metadata": {},
   "source": [
    "## Casefold"
   ]
  },
  {
   "cell_type": "code",
   "execution_count": 14,
   "metadata": {},
   "outputs": [
    {
     "name": "stdout",
     "output_type": "stream",
     "text": [
      "String awal     : DEAR JULIET\n",
      "Hasil casefold(): dear juliet\n"
     ]
    }
   ],
   "source": [
    "s='DEAR JULIET'\n",
    "print('String awal     :', s)\n",
    "print('Hasil casefold():', s.casefold())"
   ]
  },
  {
   "cell_type": "code",
   "execution_count": 15,
   "metadata": {},
   "outputs": [
    {
     "name": "stdout",
     "output_type": "stream",
     "text": [
      "String awal     : dear RomeO\n",
      "Hasil casefold(): dear romeo\n"
     ]
    }
   ],
   "source": [
    "s='dear RomeO'\n",
    "print('String awal     :', s)\n",
    "print('Hasil casefold():', s.casefold())"
   ]
  },
  {
   "cell_type": "markdown",
   "metadata": {},
   "source": [
    "## Center Method"
   ]
  },
  {
   "cell_type": "code",
   "execution_count": 20,
   "metadata": {},
   "outputs": [
    {
     "name": "stdout",
     "output_type": "stream",
     "text": [
      "----been learning python from hacker rank lately----\n"
     ]
    }
   ],
   "source": [
    "s='been learning python from hacker rank lately'\n",
    "new=s.center(52,'-')\n",
    "print(new)"
   ]
  },
  {
   "cell_type": "code",
   "execution_count": 21,
   "metadata": {},
   "outputs": [
    {
     "name": "stdout",
     "output_type": "stream",
     "text": [
      "                   python is easy to use                    \n"
     ]
    }
   ],
   "source": [
    "s='python is easy to use'\n",
    "new=s.center(60)\n",
    "print(new)"
   ]
  },
  {
   "cell_type": "markdown",
   "metadata": {},
   "source": [
    "## Count String Method"
   ]
  },
  {
   "cell_type": "code",
   "execution_count": 23,
   "metadata": {},
   "outputs": [
    {
     "name": "stdout",
     "output_type": "stream",
     "text": [
      "Count the word \"the\" in the string:  3\n"
     ]
    }
   ],
   "source": [
    "s='the best meatball in the entire world is located in the city called vennice'\n",
    "new=s.count('the')\n",
    "print('Count the word \"the\" in the string: ',new)"
   ]
  },
  {
   "cell_type": "code",
   "execution_count": 27,
   "metadata": {},
   "outputs": [
    {
     "name": "stdout",
     "output_type": "stream",
     "text": [
      "1\n"
     ]
    }
   ],
   "source": [
    "s='abcd dcba abcd'\n",
    "ct=s.count('b',0,4)\n",
    "print(ct)"
   ]
  },
  {
   "cell_type": "markdown",
   "metadata": {},
   "source": [
    "## Endswith() Method"
   ]
  },
  {
   "cell_type": "code",
   "execution_count": 35,
   "metadata": {},
   "outputs": [
    {
     "name": "stdout",
     "output_type": "stream",
     "text": [
      "String asli            : 03:45 pm\n",
      "Hasil pencarian \"am\"   : True\n",
      "String asli            : 10:34 am\n",
      "Hasil pencarian \"am\"   : False\n"
     ]
    }
   ],
   "source": [
    "s=\"03:45 pm\"\n",
    "l='10:34 am'\n",
    "print('String asli            :', s)\n",
    "print('Hasil pencarian \"am\"   :', s.endswith('pm'))\n",
    "print('String asli            :', l)\n",
    "print('Hasil pencarian \"am\"   :', l.endswith('pm'))"
   ]
  },
  {
   "cell_type": "markdown",
   "metadata": {},
   "source": [
    "## Format() Method"
   ]
  },
  {
   "cell_type": "code",
   "execution_count": 42,
   "metadata": {},
   "outputs": [
    {
     "name": "stdout",
     "output_type": "stream",
     "text": [
      "Hello my name is Adam. I work as programmer.\n",
      "I'm from New York.\n"
     ]
    }
   ],
   "source": [
    "name='Noah'\n",
    "city='New York'\n",
    "job='programmer'\n",
    "print(\"Hello my name is {}. I work as {}.\".format('Adam', job))\n",
    "print(\"I'm from {}.\".format(city))"
   ]
  },
  {
   "cell_type": "code",
   "execution_count": 43,
   "metadata": {},
   "outputs": [
    {
     "name": "stdout",
     "output_type": "stream",
     "text": [
      "Dear Leo. You are fired.\n"
     ]
    }
   ],
   "source": [
    "print(\"Dear {name}. You are fired.\".format(name='Leo'))"
   ]
  },
  {
   "cell_type": "markdown",
   "metadata": {},
   "source": [
    "## Split Method"
   ]
  },
  {
   "cell_type": "code",
   "execution_count": 44,
   "metadata": {},
   "outputs": [
    {
     "name": "stdout",
     "output_type": "stream",
     "text": [
      "['milk', 'coffee', 'sugar', 'creamer', 'chips']\n"
     ]
    }
   ],
   "source": [
    "need='milk coffee sugar creamer chips'\n",
    "print(need.split())"
   ]
  },
  {
   "cell_type": "code",
   "execution_count": 49,
   "metadata": {},
   "outputs": [
    {
     "name": "stdout",
     "output_type": "stream",
     "text": [
      "John needs tissue\n",
      "Alex needs some shaving cream\n",
      "Ravi needs coffee and creamer\n",
      "Isi listnya: \n",
      " ['John needs tissue', 'Alex needs some shaving cream', 'Ravi needs coffee and creamer']\n"
     ]
    }
   ],
   "source": [
    "need='John needs tissue:Alex needs some shaving cream:Ravi needs coffee and creamer'\n",
    "need_list=need.split(':')\n",
    "for i in need_list:\n",
    "    print(i)\n",
    "print(\"Isi listnya: \\n\",need_list)"
   ]
  },
  {
   "cell_type": "markdown",
   "metadata": {},
   "source": [
    "## Lower & Upper"
   ]
  },
  {
   "cell_type": "code",
   "execution_count": 50,
   "metadata": {},
   "outputs": [
    {
     "name": "stdout",
     "output_type": "stream",
     "text": [
      "donny went to the nobu with his girlriend, amanda\n"
     ]
    }
   ],
   "source": [
    "sentence='Donny went to the Nobu with his girlriend, Amanda'\n",
    "print(sentence.lower())"
   ]
  },
  {
   "cell_type": "code",
   "execution_count": 51,
   "metadata": {},
   "outputs": [
    {
     "name": "stdout",
     "output_type": "stream",
     "text": [
      "DONNY WENT TO THE NOBU WITH HIS GIRLRIEND, AMANDA\n"
     ]
    }
   ],
   "source": [
    "sentence='Donny went to the Nobu with his girlriend, Amanda'\n",
    "print(sentence.upper())"
   ]
  },
  {
   "cell_type": "code",
   "execution_count": null,
   "metadata": {},
   "outputs": [],
   "source": [
    "# lower() and upper() doesnt take any parameters"
   ]
  },
  {
   "cell_type": "markdown",
   "metadata": {},
   "source": [
    "## Swapcase Method"
   ]
  },
  {
   "cell_type": "code",
   "execution_count": 53,
   "metadata": {},
   "outputs": [
    {
     "name": "stdout",
     "output_type": "stream",
     "text": [
      "hELLO wORLD. IM SO TIRED\n"
     ]
    }
   ],
   "source": [
    "say='Hello World. im so tired'\n",
    "print(say.swapcase())\n",
    "\n",
    "# this method dont have parameters"
   ]
  },
  {
   "cell_type": "markdown",
   "metadata": {},
   "source": [
    "## Is? Method"
   ]
  },
  {
   "cell_type": "code",
   "execution_count": 10,
   "metadata": {},
   "outputs": [
    {
     "name": "stdout",
     "output_type": "stream",
     "text": [
      "Is 'adinda2020' alphanumeric? True\n",
      "Is 'addinda yuniarisna!!' alphanumeric? False\n",
      "Is '!!!' alphanumeric? False\n"
     ]
    }
   ],
   "source": [
    "# isalnum()\n",
    "\n",
    "s='adinda2020'\n",
    "l='addinda yuniarisna!!'\n",
    "m='!!!'\n",
    "print(\"Is '{}' alphanumeric? {}\".format(s,s.isalnum()))\n",
    "print(\"Is '{}' alphanumeric? {}\".format(l,l.isalnum()))\n",
    "print(\"Is '{}' alphanumeric? {}\".format(m,m.isalnum()))"
   ]
  },
  {
   "cell_type": "code",
   "execution_count": 14,
   "metadata": {},
   "outputs": [
    {
     "name": "stdout",
     "output_type": "stream",
     "text": [
      "daniel  =  True\n",
      "john2010  =  False\n"
     ]
    }
   ],
   "source": [
    "# isapha()\n",
    "\n",
    "s='daniel'\n",
    "l='john2010'\n",
    "print(s,\" = \",s.isalpha())\n",
    "print(l,\" = \",l.isalpha())"
   ]
  },
  {
   "cell_type": "code",
   "execution_count": 19,
   "metadata": {},
   "outputs": [
    {
     "name": "stdout",
     "output_type": "stream",
     "text": [
      "Is 'adinda2020' decimal? False\n",
      "Is '10.6' decimal? False\n",
      "Is '10,6' decimal? False\n",
      "Is '2010' decimal? True\n"
     ]
    }
   ],
   "source": [
    "# isdecimal()\n",
    "\n",
    "s='adinda2020'\n",
    "l='10.6'\n",
    "y='10,6'\n",
    "m='2010'\n",
    "print(\"Is '{}' decimal? {}\".format(s,s.isdecimal()))\n",
    "print(\"Is '{}' decimal? {}\".format(l,l.isdecimal()))\n",
    "print(\"Is '{}' decimal? {}\".format(y,y.isdecimal()))\n",
    "print(\"Is '{}' decimal? {}\".format(m,m.isdecimal()))"
   ]
  },
  {
   "cell_type": "code",
   "execution_count": 21,
   "metadata": {},
   "outputs": [
    {
     "name": "stdout",
     "output_type": "stream",
     "text": [
      "Is '15' digit? True\n",
      "Is '10.6' digit? False\n",
      "Is '10,6' digit? False\n",
      "Is '90c' digit? False\n"
     ]
    }
   ],
   "source": [
    "# isdigit()\n",
    "\n",
    "a='15'\n",
    "b='10.6'\n",
    "c='10,6'\n",
    "d='90c'\n",
    "print(\"Is '{}' digit? {}\".format(a,a.isdigit()))\n",
    "print(\"Is '{}' digit? {}\".format(b,b.isdigit()))\n",
    "print(\"Is '{}' digit? {}\".format(c,c.isdigit()))\n",
    "print(\"Is '{}' digit? {}\".format(d,d.isdigit()))"
   ]
  },
  {
   "cell_type": "code",
   "execution_count": 26,
   "metadata": {},
   "outputs": [
    {
     "name": "stdout",
     "output_type": "stream",
     "text": [
      "True\n",
      "True\n"
     ]
    }
   ],
   "source": [
    "# isupper() & islower()\n",
    "s='LADY GAGA'\n",
    "print(s.isupper())\n",
    "\n",
    "s='kompas'\n",
    "print(s.islower())"
   ]
  },
  {
   "cell_type": "markdown",
   "metadata": {},
   "source": [
    "# lanjutin di www.programiz.com"
   ]
  },
  {
   "cell_type": "code",
   "execution_count": null,
   "metadata": {},
   "outputs": [],
   "source": []
  }
 ],
 "metadata": {
  "kernelspec": {
   "display_name": "Python 3",
   "language": "python",
   "name": "python3"
  },
  "language_info": {
   "codemirror_mode": {
    "name": "ipython",
    "version": 3
   },
   "file_extension": ".py",
   "mimetype": "text/x-python",
   "name": "python",
   "nbconvert_exporter": "python",
   "pygments_lexer": "ipython3",
   "version": "3.7.3"
  }
 },
 "nbformat": 4,
 "nbformat_minor": 2
}
