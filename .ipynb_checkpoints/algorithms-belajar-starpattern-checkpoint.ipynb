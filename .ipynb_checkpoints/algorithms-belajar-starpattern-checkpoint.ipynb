{
 "cells": [
  {
   "cell_type": "markdown",
   "metadata": {},
   "source": [
    "## while loop"
   ]
  },
  {
   "cell_type": "code",
   "execution_count": 36,
   "metadata": {},
   "outputs": [
    {
     "name": "stdout",
     "output_type": "stream",
     "text": [
      "o\n",
      "oo\n",
      "ooo\n",
      "oooo\n",
      "ooooo\n",
      "oooooo\n"
     ]
    }
   ],
   "source": [
    "s=6\n",
    "i=1\n",
    "while i<=s:\n",
    "    print('o'*i)\n",
    "    i+=1"
   ]
  },
  {
   "cell_type": "code",
   "execution_count": 6,
   "metadata": {},
   "outputs": [
    {
     "name": "stdout",
     "output_type": "stream",
     "text": [
      "-----o\n",
      "----oo\n",
      "---ooo\n",
      "--oooo\n",
      "-ooooo\n",
      "oooooo\n"
     ]
    }
   ],
   "source": [
    "s=6\n",
    "i=1\n",
    "while i<=s:\n",
    "    print('-'*(s-i),'o'*i, sep='')\n",
    "    i+=1"
   ]
  },
  {
   "cell_type": "code",
   "execution_count": 2,
   "metadata": {},
   "outputs": [
    {
     "name": "stdout",
     "output_type": "stream",
     "text": [
      "oooooo\n",
      "ooooo\n",
      "oooo\n",
      "ooo\n",
      "oo\n",
      "o\n"
     ]
    }
   ],
   "source": [
    "s=6\n",
    "while s>0:\n",
    "    print('o'*s)\n",
    "    s-=1"
   ]
  },
  {
   "cell_type": "code",
   "execution_count": 4,
   "metadata": {},
   "outputs": [
    {
     "name": "stdout",
     "output_type": "stream",
     "text": [
      "-oooooo\n",
      "--ooooo\n",
      "---oooo\n",
      "----ooo\n",
      "-----oo\n",
      "------o\n"
     ]
    }
   ],
   "source": [
    "s=6\n",
    "i=1\n",
    "while s>0:\n",
    "    print('-'*i,'o'*(s),sep='')\n",
    "    s-=1\n",
    "    i+=1"
   ]
  },
  {
   "cell_type": "code",
   "execution_count": 16,
   "metadata": {},
   "outputs": [
    {
     "name": "stdout",
     "output_type": "stream",
     "text": [
      "   o   \n",
      "   oo   \n",
      "  ooo  \n",
      "  oooo  \n",
      " ooooo \n",
      " oooooo \n"
     ]
    }
   ],
   "source": [
    "s=6\n",
    "i=1\n",
    "while i<=s:\n",
    "    print(' '*(int((s-i)/2)),'o'*i,' '*(int((s-i)/2)))\n",
    "    i+=1"
   ]
  },
  {
   "cell_type": "code",
   "execution_count": 10,
   "metadata": {},
   "outputs": [
    {
     "name": "stdout",
     "output_type": "stream",
     "text": [
      "o\n",
      "oo\n",
      "ooo\n",
      "oooo\n",
      "ooooo\n",
      "oooo\n",
      "ooo\n",
      "oo\n",
      "o\n"
     ]
    }
   ],
   "source": [
    "s=5\n",
    "for i in range(0,s):\n",
    "    print('o'*(i+1))\n",
    "for i in range(s-1,0,-1):\n",
    "    print('o'*i)"
   ]
  },
  {
   "cell_type": "code",
   "execution_count": 8,
   "metadata": {},
   "outputs": [
    {
     "name": "stdout",
     "output_type": "stream",
     "text": [
      "-oooooo\n",
      "--ooooo\n",
      "---oooo\n",
      "----ooo\n",
      "-----oo\n",
      "------o\n",
      "-----oo\n",
      "----ooo\n",
      "---oooo\n",
      "--ooooo\n",
      "-oooooo\n"
     ]
    }
   ],
   "source": [
    "s=6\n",
    "for i in range(0,s):\n",
    "    print('-'*(i+1), 'o'*(s-i), sep='')\n",
    "for i in range(1,s):\n",
    "    print('-'*(s-i), 'o'*(i+1), sep='')"
   ]
  },
  {
   "cell_type": "code",
   "execution_count": 11,
   "metadata": {},
   "outputs": [
    {
     "name": "stdout",
     "output_type": "stream",
     "text": [
      "o------\n",
      "oo-----\n",
      "ooo----\n",
      "oooo---\n",
      "ooooo--\n",
      "oooooo-\n",
      "ooooo--\n",
      "oooo---\n",
      "ooo----\n",
      "oo-----\n",
      "o------\n"
     ]
    }
   ],
   "source": [
    "s=6\n",
    "for i in range(0,s):\n",
    "    print('o'*(i+1), '-'*(s-i), sep='')\n",
    "for i in range(1,s):\n",
    "    print('o'*(s-i), '-'*(i+1), sep='')"
   ]
  },
  {
   "cell_type": "code",
   "execution_count": 49,
   "metadata": {},
   "outputs": [
    {
     "name": "stdout",
     "output_type": "stream",
     "text": [
      "-----o\n",
      "----ooo\n",
      "---ooooo\n",
      "--ooooooo\n",
      "-ooooooooo\n",
      "--ooooooo\n",
      "---ooooo\n",
      "----ooo\n",
      "-----o\n"
     ]
    }
   ],
   "source": [
    "s=5\n",
    "k=1\n",
    "for i in range(s,0,-1):\n",
    "    print('-'*i, 'o'*k,sep='')\n",
    "    k+=2\n",
    "p=(s-2)*2+1\n",
    "y=2\n",
    "for i in range(p,0,-2):\n",
    "    print('-'*y,'o'*i,sep='')\n",
    "    y+=1"
   ]
  },
  {
   "cell_type": "code",
   "execution_count": 67,
   "metadata": {},
   "outputs": [
    {
     "name": "stdout",
     "output_type": "stream",
     "text": [
      "     o\n",
      "    ooo\n",
      "   ooooo\n",
      "  ooooooo\n",
      " ooooooooo\n",
      "ooooooooooo\n"
     ]
    }
   ],
   "source": [
    "s=6\n",
    "k=s-1\n",
    "for i in range(s):\n",
    "    print(' '*k, 'o'*(1+(i*2)),sep='')\n",
    "    k-=1"
   ]
  },
  {
   "cell_type": "code",
   "execution_count": 48,
   "metadata": {},
   "outputs": [
    {
     "name": "stdout",
     "output_type": "stream",
     "text": [
      "-----o-----\n",
      "----ooo----\n",
      "---ooooo---\n",
      "--ooooooo--\n",
      "-ooooooooo-\n"
     ]
    }
   ],
   "source": [
    "s=5\n",
    "k=1\n",
    "for i in range(s,0,-1):\n",
    "    print('-'*i, 'o'*k, '-'*i, sep='')\n",
    "    k+=2\n",
    "    "
   ]
  },
  {
   "cell_type": "code",
   "execution_count": null,
   "metadata": {},
   "outputs": [],
   "source": []
  }
 ],
 "metadata": {
  "kernelspec": {
   "display_name": "Python 3",
   "language": "python",
   "name": "python3"
  },
  "language_info": {
   "codemirror_mode": {
    "name": "ipython",
    "version": 3
   },
   "file_extension": ".py",
   "mimetype": "text/x-python",
   "name": "python",
   "nbconvert_exporter": "python",
   "pygments_lexer": "ipython3",
   "version": "3.7.3"
  }
 },
 "nbformat": 4,
 "nbformat_minor": 2
}
