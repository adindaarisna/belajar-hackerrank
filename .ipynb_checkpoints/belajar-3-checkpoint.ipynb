{
 "cells": [
  {
   "cell_type": "markdown",
   "metadata": {},
   "source": [
    "### The Minion Game"
   ]
  },
  {
   "cell_type": "code",
   "execution_count": 1,
   "metadata": {},
   "outputs": [
    {
     "data": {
      "text/plain": [
       "['B',\n",
       " 'A',\n",
       " 'N',\n",
       " 'A',\n",
       " 'N',\n",
       " 'A',\n",
       " 'BA',\n",
       " 'AN',\n",
       " 'NA',\n",
       " 'AN',\n",
       " 'NA',\n",
       " 'BAN',\n",
       " 'ANA',\n",
       " 'NAN',\n",
       " 'ANA',\n",
       " 'BANA',\n",
       " 'ANAN',\n",
       " 'NANA',\n",
       " 'BANAN',\n",
       " 'ANANA',\n",
       " 'BANANA']"
      ]
     },
     "execution_count": 1,
     "metadata": {},
     "output_type": "execute_result"
    }
   ],
   "source": [
    "def wordToList(w):\n",
    "    wlist=[]\n",
    "    for i in range(len(w)):\n",
    "        wlist.append(w[i])\n",
    "    return wlist\n",
    "\n",
    "def countCharInWord(wlist):\n",
    "    count = []\n",
    "    charcount = []\n",
    "    for j in wlist:\n",
    "        jml = 0\n",
    "        for subj in wlist:\n",
    "            if subj == j:\n",
    "                jml+=1\n",
    "        charcount.append([j,jml])\n",
    "    unique_charcount = []\n",
    "    for k in range(len(charcount)):\n",
    "            if charcount[k] not in unique_charcount:\n",
    "                unique_charcount.append(charcount[k])\n",
    "    return unique_charcount\n",
    "\n",
    "def posibility(wlist):\n",
    "    n = len(wlist)\n",
    "    poss = []\n",
    "    for o in range(len(wlist)):\n",
    "        if o==0:\n",
    "            for k in range(len(wlist)):\n",
    "                poss.append(wlist[k])\n",
    "        elif o>0:\n",
    "            for m in range(n-o):\n",
    "                srt = ''\n",
    "                x = 0\n",
    "                for l in range(o+1):\n",
    "                    srt = srt + wlist[m+x]\n",
    "                    x+=1\n",
    "                poss.append(srt)\n",
    "    return poss\n",
    "\n",
    "posibility(wordToList(\"BANANA\"))"
   ]
  },
  {
   "cell_type": "code",
   "execution_count": 2,
   "metadata": {},
   "outputs": [
    {
     "name": "stdout",
     "output_type": "stream",
     "text": [
      "['B', 'A', 'N', 'A', 'N', 'A', 'BA', 'AN', 'NA', 'AN', 'NA', 'BAN', 'ANA', 'NAN', 'ANA', 'BANA', 'ANAN', 'NANA', 'BANAN', 'ANANA', 'BANANA']\n",
      "21\n"
     ]
    }
   ],
   "source": [
    "wlist = ['B','A','N','A','N','A']\n",
    "n = len(wlist)\n",
    "poss = []\n",
    "for o in range(len(wlist)):\n",
    "    if o==0:\n",
    "        for k in range(len(wlist)):\n",
    "            poss.append(wlist[k])\n",
    "    elif o>0:\n",
    "        for m in range(n-o):\n",
    "            srt = ''\n",
    "            x = 0\n",
    "            for l in range(o+1):\n",
    "                srt = srt + wlist[m+x]\n",
    "                x+=1\n",
    "            poss.append(srt)\n",
    "            \n",
    "\n",
    "print(poss)\n",
    "print(len(poss))"
   ]
  },
  {
   "cell_type": "code",
   "execution_count": 3,
   "metadata": {},
   "outputs": [
    {
     "name": "stdout",
     "output_type": "stream",
     "text": [
      "['B', 'A', 'N', 'A', 'N', 'A', 'BA', 'AN', 'NA', 'AN', 'NA', 'BAN', 'ANA', 'NAN', 'ANA', 'BANA', 'ANAN', 'NANA', 'BANAN', 'ANANA', 'BANANA']\n",
      "21\n",
      "Kevin  18\n"
     ]
    }
   ],
   "source": [
    "wlist = ['B','A','N','A','N','A']\n",
    "n = len(wlist)\n",
    "poss = []\n",
    "for o in range(len(wlist)):\n",
    "    if o==0:\n",
    "        for k in range(len(wlist)):\n",
    "            poss.append(wlist[k])\n",
    "    elif o>0:\n",
    "        for m in range(n-o):\n",
    "            srt = ''\n",
    "            x = 0\n",
    "            for l in range(o+1):\n",
    "                srt = srt + wlist[m+x]\n",
    "                x+=1\n",
    "            poss.append(srt)\n",
    "\n",
    "def countPossIndex(ch):\n",
    "    countVowel=0\n",
    "    countConso=0\n",
    "    for ac in range(len(ch)):\n",
    "        if (ch[ac]=='A' or ch[ac]=='I' or ch[ac]=='U' or ch[ac]=='E' or ch[ac]=='O'):\n",
    "            countVowel+=1\n",
    "        else:\n",
    "            countConso+=1\n",
    "    if countVowel>countConso:\n",
    "        return print('Stuart ',  countVowel)\n",
    "    elif countConso>countVowel:\n",
    "        return print('Kevin ', countConso)\n",
    "print(poss)\n",
    "print(len(poss))\n",
    "countPossIndex(poss)"
   ]
  },
  {
   "cell_type": "code",
   "execution_count": 4,
   "metadata": {},
   "outputs": [
    {
     "name": "stdout",
     "output_type": "stream",
     "text": [
      "Stuart  9\n",
      "Kevin  12\n",
      "['B', 'A', 'N', 'A', 'N', 'A', 'BA', 'AN', 'NA', 'AN', 'NA', 'BAN', 'ANA', 'NAN', 'ANA', 'BANA', 'ANAN', 'NANA', 'BANAN', 'ANANA', 'BANANA']\n",
      "21\n",
      "Kevin  18\n"
     ]
    }
   ],
   "source": [
    "wlist = ['B','A','N','A','N','A']\n",
    "n = len(wlist)\n",
    "poss = []\n",
    "for o in range(len(wlist)):\n",
    "    if o==0:\n",
    "        for k in range(len(wlist)):\n",
    "            poss.append(wlist[k])\n",
    "    elif o>0:\n",
    "        for m in range(n-o):\n",
    "            srt = ''\n",
    "            x = 0\n",
    "            for l in range(o+1):\n",
    "                srt = srt + wlist[m+x]\n",
    "                x+=1\n",
    "            poss.append(srt)\n",
    "\n",
    "ch = poss\n",
    "countVowel=0\n",
    "countConso=0\n",
    "for ac in range(len(ch)):\n",
    "    if (ch[ac][0]=='A' or ch[ac][0]=='I' or ch[ac][0]=='U' or ch[ac][0]=='E' or ch[ac][0]=='O'):\n",
    "        countVowel+=1\n",
    "    else:\n",
    "        countConso+=1\n",
    " \n",
    "print('Stuart ',  countVowel)\n",
    "print('Kevin ', countConso)\n",
    "print(poss)\n",
    "print(len(poss))\n",
    "countPossIndex(poss)"
   ]
  },
  {
   "cell_type": "code",
   "execution_count": 5,
   "metadata": {},
   "outputs": [
    {
     "name": "stdout",
     "output_type": "stream",
     "text": [
      "Stuart  12\n"
     ]
    }
   ],
   "source": [
    "wlist = ['B','A','N','A','N','A']\n",
    "n = len(wlist)\n",
    "poss = []\n",
    "for o in range(len(wlist)):\n",
    "    if o==0:\n",
    "        for k in range(len(wlist)):\n",
    "            poss.append(wlist[k])\n",
    "    elif o>0:\n",
    "        for m in range(n-o):\n",
    "            srt = ''\n",
    "            x = 0\n",
    "            for l in range(o+1):\n",
    "                srt = srt + wlist[m+x]\n",
    "                x+=1\n",
    "            poss.append(srt)\n",
    "\n",
    "def countPossIndex(ch):\n",
    "    countVowel=0\n",
    "    countConso=0\n",
    "    for ac in range(len(ch)):\n",
    "        if (ch[ac][0]=='A' or ch[ac][0]=='I' or ch[ac][0]=='U' or ch[ac][0]=='E' or ch[ac][0]=='O'):\n",
    "            countVowel+=1\n",
    "        else:\n",
    "            countConso+=1\n",
    "    if countVowel>countConso:\n",
    "        return print('Kevin ',  countVowel)\n",
    "    elif countConso>countVowel:\n",
    "        return print('Stuart ', countConso)\n",
    "countPossIndex(poss)"
   ]
  },
  {
   "cell_type": "markdown",
   "metadata": {},
   "source": [
    "### The Minion Game - Lengkap Versi Panjang"
   ]
  },
  {
   "cell_type": "code",
   "execution_count": 6,
   "metadata": {},
   "outputs": [
    {
     "name": "stdout",
     "output_type": "stream",
     "text": [
      "Draw\n"
     ]
    }
   ],
   "source": [
    "def wordToList(w):\n",
    "    wlist=[]\n",
    "    for i in range(len(w)):\n",
    "        wlist.append(w[i])\n",
    "    return wlist\n",
    "\n",
    "def countCharInWord(wlist):\n",
    "    count = []\n",
    "    charcount = []\n",
    "    for j in wlist:\n",
    "        jml = 0\n",
    "        for subj in wlist:\n",
    "            if subj == j:\n",
    "                jml+=1\n",
    "        charcount.append([j,jml])\n",
    "    unique_charcount = []\n",
    "    for k in range(len(charcount)):\n",
    "            if charcount[k] not in unique_charcount:\n",
    "                unique_charcount.append(charcount[k])\n",
    "    return unique_charcount\n",
    "\n",
    "def posibility(wlist):\n",
    "    n = len(wlist)\n",
    "    poss = []\n",
    "    for o in range(len(wlist)):\n",
    "        if o==0:\n",
    "            for k in range(len(wlist)):\n",
    "                poss.append(wlist[k])\n",
    "        elif o>0:\n",
    "            for m in range(n-o):\n",
    "                srt = ''\n",
    "                x = 0\n",
    "                for l in range(o+1):\n",
    "                    srt = srt + wlist[m+x]\n",
    "                    x+=1\n",
    "                poss.append(srt)\n",
    "    return poss\n",
    "\n",
    "def countPoss(ch):\n",
    "    countVowel=0\n",
    "    countConso=0\n",
    "    for ac in range(len(ch)):\n",
    "        if (ch[ac][0]=='A' or ch[ac][0]=='I' or ch[ac][0]=='U' or ch[ac][0]=='E' or ch[ac][0]=='O'):\n",
    "            countVowel+=1\n",
    "        else:\n",
    "            countConso+=1\n",
    "    if countVowel>countConso:\n",
    "        return print('Kevin ',  countVowel)\n",
    "    elif countConso>countVowel:\n",
    "        return print('Stuart ', countConso)\n",
    "    elif countConso==countVowel:\n",
    "        return print('Draw')\n",
    "    \n",
    "countPoss(posibility(wordToList(\"BAA\")))"
   ]
  },
  {
   "cell_type": "markdown",
   "metadata": {},
   "source": [
    "### The Minion Game - Versi Pedenk (WOW)"
   ]
  },
  {
   "cell_type": "code",
   "execution_count": 11,
   "metadata": {},
   "outputs": [
    {
     "name": "stdout",
     "output_type": "stream",
     "text": [
      "ZZZZZ\n",
      "Stuart 15\n"
     ]
    }
   ],
   "source": [
    "s = input()\n",
    "\n",
    "vowels = 'AEIOU'\n",
    "\n",
    "kevsc = 0\n",
    "stusc = 0\n",
    "for i in range(len(s)):\n",
    "    if s[i] in vowels:\n",
    "        kevsc += (len(s)-i)\n",
    "    else:\n",
    "        stusc += (len(s)-i)\n",
    "\n",
    "if kevsc > stusc:\n",
    "    print (\"Kevin\", kevsc)\n",
    "elif kevsc < stusc:\n",
    "    print (\"Stuart\", stusc)\n",
    "else:\n",
    "    print (\"Draw\")"
   ]
  },
  {
   "cell_type": "code",
   "execution_count": null,
   "metadata": {},
   "outputs": [],
   "source": [
    "BANANA\n",
    "stusc = 6+3\n",
    "kevsc = 5+4+2"
   ]
  },
  {
   "cell_type": "markdown",
   "metadata": {},
   "source": [
    "### The Minion Gam - Versi Panjang dan 1 Function"
   ]
  },
  {
   "cell_type": "code",
   "execution_count": 10,
   "metadata": {},
   "outputs": [
    {
     "name": "stdout",
     "output_type": "stream",
     "text": [
      "BANANA\n",
      "Stuart 12\n"
     ]
    }
   ],
   "source": [
    "def minion_game(s):\n",
    "    # your code goes here\n",
    "    w = s\n",
    "    wlist=[]\n",
    "    for i in range(len(w)):\n",
    "        wlist.append(w[i])\n",
    "\n",
    "    count = []\n",
    "    charcount = []\n",
    "    for j in wlist:\n",
    "        jml = 0\n",
    "        for subj in wlist:\n",
    "            if subj == j:\n",
    "                jml+=1\n",
    "        charcount.append([j,jml])\n",
    "    unique_charcount = []\n",
    "    for k in range(len(charcount)):\n",
    "            if charcount[k] not in unique_charcount:\n",
    "                unique_charcount.append(charcount[k])\n",
    "\n",
    "    n = len(wlist)\n",
    "    poss = []\n",
    "    for o in range(len(wlist)):\n",
    "        if o==0:\n",
    "            for k in range(len(wlist)):\n",
    "                poss.append(wlist[k])\n",
    "        elif o>0:\n",
    "            for m in range(n-o):\n",
    "                srt = ''\n",
    "                x = 0\n",
    "                for l in range(o+1):\n",
    "                    srt = srt + wlist[m+x]\n",
    "                    x+=1\n",
    "                poss.append(srt)\n",
    "\n",
    "    countVowel=0\n",
    "    countConso=0\n",
    "    for ac in range(len(poss)):\n",
    "        if (poss[ac][0]=='A' or poss[ac][0]=='I' or poss[ac][0]=='U' or poss[ac][0]=='E' or poss[ac][0]=='O'):\n",
    "            countVowel+=1\n",
    "        else:\n",
    "            countConso+=1\n",
    "    if countVowel>countConso:\n",
    "        print('Kevin',  countVowel)\n",
    "    elif countConso>countVowel:\n",
    "        print('Stuart', countConso)\n",
    "    elif countConso==countVowel:\n",
    "        print('Draw')\n",
    "\n",
    "if __name__ == '__main__':\n",
    "    s = input()\n",
    "    minion_game(s)"
   ]
  },
  {
   "cell_type": "code",
   "execution_count": 13,
   "metadata": {},
   "outputs": [
    {
     "name": "stdout",
     "output_type": "stream",
     "text": [
      "BANANA\n",
      "Stuart 12\n"
     ]
    }
   ],
   "source": [
    "def minion_game(s):\n",
    "    # your code goes here\n",
    "    n = len(s)\n",
    "    poss = []\n",
    "    for o in range(len(s)):\n",
    "        if o==0:\n",
    "            for k in range(len(s)):\n",
    "                poss.append(s[k])\n",
    "        elif o>0:\n",
    "            for m in range(n-o):\n",
    "                srt = ''\n",
    "                x = 0\n",
    "                for l in range(o+1):\n",
    "                    srt = srt + s[m+x]\n",
    "                    x+=1\n",
    "                poss.append(srt)\n",
    "    countVowel=0\n",
    "    countConso=0\n",
    "    for ac in range(len(poss)):\n",
    "        if (poss[ac][0]=='A' or poss[ac][0]=='I' or poss[ac][0]=='U' or poss[ac][0]=='E' or poss[ac][0]=='O'):\n",
    "            countVowel+=1\n",
    "        else:\n",
    "            countConso+=1\n",
    "    if countVowel>countConso:\n",
    "        print('Kevin',  countVowel)\n",
    "    elif countConso>countVowel:\n",
    "        print('Stuart', countConso)\n",
    "    elif countConso==countVowel:\n",
    "        print('Draw')\n",
    "\n",
    "if __name__ == '__main__':\n",
    "    s = input()\n",
    "    minion_game(s)"
   ]
  },
  {
   "cell_type": "code",
   "execution_count": null,
   "metadata": {},
   "outputs": [],
   "source": []
  }
 ],
 "metadata": {
  "kernelspec": {
   "display_name": "Python 3",
   "language": "python",
   "name": "python3"
  },
  "language_info": {
   "codemirror_mode": {
    "name": "ipython",
    "version": 3
   },
   "file_extension": ".py",
   "mimetype": "text/x-python",
   "name": "python",
   "nbconvert_exporter": "python",
   "pygments_lexer": "ipython3",
   "version": "3.7.3"
  }
 },
 "nbformat": 4,
 "nbformat_minor": 2
}
