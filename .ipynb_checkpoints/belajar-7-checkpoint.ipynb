{
 "cells": [
  {
   "cell_type": "markdown",
   "metadata": {},
   "source": [
    "## Questions : String Validators"
   ]
  },
  {
   "cell_type": "raw",
   "metadata": {},
   "source": [
    "Task\n",
    "You are given a string .\n",
    "Your task is to find out if the string  contains: alphanumeric characters, alphabetical characters, digits, lowercase and uppercase characters.\n",
    "\n",
    "Input Format\n",
    "A single line containing a string .\n",
    "\n",
    "Constraints\n",
    "0 < len(s) < 1000\n",
    "\n",
    "Output Format\n",
    "In the first line, print True if  has any alphanumeric characters. Otherwise, print False.\n",
    "In the second line, print True if  has any alphabetical characters. Otherwise, print False.\n",
    "In the third line, print True if  has any digits. Otherwise, print False.\n",
    "In the fourth line, print True if  has any lowercase characters. Otherwise, print False.\n",
    "In the fifth line, print True if  has any uppercase characters. Otherwise, print False.\n",
    "\n",
    "Sample Input\n",
    "qA2\n",
    "\n",
    "Sample Output\n",
    "True\n",
    "True\n",
    "True\n",
    "True\n",
    "True"
   ]
  },
  {
   "cell_type": "markdown",
   "metadata": {},
   "source": [
    "## Answer"
   ]
  },
  {
   "cell_type": "code",
   "execution_count": null,
   "metadata": {},
   "outputs": [],
   "source": [
    "if __name__ == '__main__':\n",
    "    s = input()\n",
    "    for i in s:\n",
    "        print(i)"
   ]
  },
  {
   "cell_type": "code",
   "execution_count": 3,
   "metadata": {},
   "outputs": [
    {
     "name": "stdout",
     "output_type": "stream",
     "text": [
      "False\n"
     ]
    }
   ],
   "source": [
    "print(('ad12').isnumeric())"
   ]
  },
  {
   "cell_type": "code",
   "execution_count": 1,
   "metadata": {},
   "outputs": [
    {
     "name": "stdout",
     "output_type": "stream",
     "text": [
      "a\n",
      "d\n",
      "i\n",
      "n\n",
      "d\n",
      "a\n"
     ]
    }
   ],
   "source": [
    "s='adinda'\n",
    "res=[False,False,False,False,False]\n",
    "def find_alphanum(s):\n",
    "    out=False\n",
    "    for i in s:\n",
    "        if isalnum():\n",
    "            out=True\n",
    "            break\n",
    "    return out\n",
    "\n",
    "for i in s:\n",
    "    \n",
    "    "
   ]
  },
  {
   "cell_type": "code",
   "execution_count": 8,
   "metadata": {},
   "outputs": [
    {
     "name": "stdout",
     "output_type": "stream",
     "text": [
      "False\n",
      "True\n"
     ]
    }
   ],
   "source": [
    "res=[False, True]\n",
    "print(*res, sep='\\n')"
   ]
  },
  {
   "cell_type": "code",
   "execution_count": 14,
   "metadata": {},
   "outputs": [
    {
     "data": {
      "text/plain": [
       "False"
      ]
     },
     "execution_count": 14,
     "metadata": {},
     "output_type": "execute_result"
    }
   ],
   "source": [
    "def find_alphanum(s):\n",
    "    out=False\n",
    "    for i in range(len(s)-1):\n",
    "        if s[i:i+1].isalnum():\n",
    "            out=True\n",
    "            break\n",
    "    return out\n",
    "def find_alpha(s):\n",
    "    out=False\n",
    "    for i in range(len(s)):\n",
    "        if s[i].isalpha():\n",
    "            out=True\n",
    "            break\n",
    "    return out\n",
    "\n",
    "def find_digit(s):\n",
    "    out=False\n",
    "    for i in range(len(s)):\n",
    "        \n",
    "\n",
    "find_alpha('113')"
   ]
  },
  {
   "cell_type": "code",
   "execution_count": null,
   "metadata": {},
   "outputs": [],
   "source": []
  }
 ],
 "metadata": {
  "kernelspec": {
   "display_name": "Python 3",
   "language": "python",
   "name": "python3"
  },
  "language_info": {
   "codemirror_mode": {
    "name": "ipython",
    "version": 3
   },
   "file_extension": ".py",
   "mimetype": "text/x-python",
   "name": "python",
   "nbconvert_exporter": "python",
   "pygments_lexer": "ipython3",
   "version": "3.7.3"
  }
 },
 "nbformat": 4,
 "nbformat_minor": 2
}
