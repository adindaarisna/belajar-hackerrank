{
 "cells": [
  {
   "cell_type": "code",
   "execution_count": 3,
   "metadata": {},
   "outputs": [
    {
     "name": "stdout",
     "output_type": "stream",
     "text": [
      "['BANA', 'ANAN', 'NANA']\n"
     ]
    }
   ],
   "source": [
    "wlist = ['B','A','N','A','N','A']\n",
    "n = len(wlist)\n",
    "poss = []\n",
    "for k in range(n-3):\n",
    "    str = wlist[k] + wlist[k+1] + wlist[k+2] + wlist[k+3]\n",
    "    poss.append(str)\n",
    "print(poss)"
   ]
  },
  {
   "cell_type": "code",
   "execution_count": 23,
   "metadata": {},
   "outputs": [
    {
     "name": "stdout",
     "output_type": "stream",
     "text": [
      "[['B'], ['A'], ['N'], ['A'], ['N'], ['A']]\n"
     ]
    }
   ],
   "source": [
    "wlist = ['B','A','N','A','N','A']\n",
    "n = len(wlist)\n",
    "poss = []\n",
    "for i in wlist:\n",
    "    poss.append([i])\n",
    "print(poss)"
   ]
  },
  {
   "cell_type": "code",
   "execution_count": null,
   "metadata": {},
   "outputs": [],
   "source": []
  }
 ],
 "metadata": {
  "kernelspec": {
   "display_name": "Python 3",
   "language": "python",
   "name": "python3"
  },
  "language_info": {
   "codemirror_mode": {
    "name": "ipython",
    "version": 3
   },
   "file_extension": ".py",
   "mimetype": "text/x-python",
   "name": "python",
   "nbconvert_exporter": "python",
   "pygments_lexer": "ipython3",
   "version": "3.7.3"
  }
 },
 "nbformat": 4,
 "nbformat_minor": 2
}
