{
 "cells": [
  {
   "cell_type": "markdown",
   "metadata": {},
   "source": [
    "### Super Raduced String"
   ]
  },
  {
   "cell_type": "code",
   "execution_count": null,
   "metadata": {},
   "outputs": [],
   "source": [
    "# aaab\n",
    "# ab = out"
   ]
  },
  {
   "cell_type": "code",
   "execution_count": null,
   "metadata": {},
   "outputs": [],
   "source": [
    "# aaabcbbcde\n",
    "# abcbbcde\n",
    "# abccde\n",
    "# abde = out"
   ]
  },
  {
   "cell_type": "code",
   "execution_count": null,
   "metadata": {},
   "outputs": [],
   "source": [
    "# ababbabaa\n",
    "# abaabaa\n",
    "# abbaa\n",
    "# aaa\n",
    "# a = out"
   ]
  },
  {
   "cell_type": "code",
   "execution_count": null,
   "metadata": {},
   "outputs": [],
   "source": [
    "# abccdefgh\n",
    "# abdefgh = out"
   ]
  },
  {
   "cell_type": "code",
   "execution_count": 20,
   "metadata": {},
   "outputs": [
    {
     "name": "stdout",
     "output_type": "stream",
     "text": [
      "aab\n"
     ]
    }
   ],
   "source": [
    "s='aaaab'\n",
    "k=s\n",
    "new=''\n",
    "i=0\n",
    "while (s[i]!=s[i+1]):\n",
    "    i+=1\n",
    "else:\n",
    "    new=k[i+2:]\n",
    "print(new)"
   ]
  },
  {
   "cell_type": "code",
   "execution_count": 12,
   "metadata": {},
   "outputs": [
    {
     "name": "stdout",
     "output_type": "stream",
     "text": [
      "a\n"
     ]
    }
   ],
   "source": [
    "s='aabbbb'\n",
    "l=s[0:1]\n",
    "print(l)"
   ]
  },
  {
   "cell_type": "code",
   "execution_count": 9,
   "metadata": {},
   "outputs": [
    {
     "name": "stdout",
     "output_type": "stream",
     "text": [
      "abd\n"
     ]
    }
   ],
   "source": [
    "ress = []\n",
    "s = 'aaabccddd'\n",
    "for i in range(len(s)):\n",
    "    if len(ress) == 0 or ress[-1] != s[i]:\n",
    "        ress.append(s[i])\n",
    "    else:\n",
    "        ress.pop()\n",
    "\n",
    "if len(ress) == 0:\n",
    "    print('Empty String')\n",
    "else:\n",
    "    print(''.join(ress))"
   ]
  },
  {
   "cell_type": "code",
   "execution_count": 33,
   "metadata": {},
   "outputs": [
    {
     "name": "stdout",
     "output_type": "stream",
     "text": [
      "2\n"
     ]
    }
   ],
   "source": [
    "s='99100'\n",
    "ress=0\n",
    "result=0\n",
    "pjg=int(len(s)/2)\n",
    "for i in range(pjg):\n",
    "    j = int(s[i:i+i]) - int(s[0:i])\n",
    "    if j == 1:\n",
    "        ress = 1\n",
    "    else:\n",
    "        ress = 0\n",
    "if ress=0:\n",
    "    result='NO'\n",
    "else:\n",
    "    result='YES'+\n",
    "print(pjg)\n",
    "print()    "
   ]
  },
  {
   "cell_type": "code",
   "execution_count": null,
   "metadata": {},
   "outputs": [],
   "source": [
    "# 1234 yes 1\n",
    "# 1235 no\n",
    "# 12345 yes 1\n",
    "\n",
    "# 111213 yes 12\n",
    "# 111214 no\n",
    "# 123456 yes 1\n",
    "# 121314 yes 12\n",
    "# 100101 yes 100\n",
    "# 10001001 yess 1000\n",
    "# 1000010001 yes 10000\n",
    "# 99100"
   ]
  },
  {
   "cell_type": "code",
   "execution_count": 36,
   "metadata": {},
   "outputs": [
    {
     "name": "stdout",
     "output_type": "stream",
     "text": [
      "1\n",
      "2\n",
      "1\n"
     ]
    }
   ],
   "source": [
    "s='12345'\n",
    "i=1\n",
    "print(s[0:i])\n",
    "print(s[i:i+i])\n",
    "j = int(s[i:i+i]) - int(s[0:i])\n",
    "print(j)"
   ]
  },
  {
   "cell_type": "code",
   "execution_count": 45,
   "metadata": {},
   "outputs": [
    {
     "name": "stdout",
     "output_type": "stream",
     "text": [
      "yes 10\n"
     ]
    }
   ],
   "source": [
    "s=10\n",
    "lk='yes '\n",
    "print(lk+str(s))"
   ]
  },
  {
   "cell_type": "code",
   "execution_count": null,
   "metadata": {},
   "outputs": [],
   "source": []
  }
 ],
 "metadata": {
  "kernelspec": {
   "display_name": "Python 3",
   "language": "python",
   "name": "python3"
  },
  "language_info": {
   "codemirror_mode": {
    "name": "ipython",
    "version": 3
   },
   "file_extension": ".py",
   "mimetype": "text/x-python",
   "name": "python",
   "nbconvert_exporter": "python",
   "pygments_lexer": "ipython3",
   "version": "3.7.3"
  }
 },
 "nbformat": 4,
 "nbformat_minor": 2
}
