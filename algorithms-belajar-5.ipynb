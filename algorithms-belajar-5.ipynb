{
 "cells": [
  {
   "cell_type": "markdown",
   "metadata": {},
   "source": [
    "### Save The Prisoner - Today start here (unsolved)"
   ]
  },
  {
   "cell_type": "code",
   "execution_count": 14,
   "metadata": {},
   "outputs": [
    {
     "name": "stdout",
     "output_type": "stream",
     "text": [
      "1\n"
     ]
    }
   ],
   "source": [
    "n,m,s=4,0,2\n",
    "if m<n:\n",
    "    x=s+(m-1)\n",
    "elif m>n:\n",
    "    m=int(m%n)\n",
    "    x=s+(m-1)\n",
    "elif m==n or m==0:\n",
    "    x=s\n",
    "print(x)"
   ]
  },
  {
   "cell_type": "code",
   "execution_count": 35,
   "metadata": {},
   "outputs": [
    {
     "name": "stdout",
     "output_type": "stream",
     "text": [
      "3 \n",
      "\n"
     ]
    }
   ],
   "source": [
    "n,m,s=3,7,3\n",
    "if n==0:\n",
    "    x=0\n",
    "elif m==0:\n",
    "    x=0\n",
    "elif m==n:\n",
    "    x=0\n",
    "else:\n",
    "    if m<n:\n",
    "        x=s+(m-1)\n",
    "    elif m>n:\n",
    "        m=int(m%n)\n",
    "        x=s+(m-1)\n",
    "\n",
    "print(x,'\\n')"
   ]
  },
  {
   "cell_type": "code",
   "execution_count": 43,
   "metadata": {},
   "outputs": [
    {
     "name": "stdout",
     "output_type": "stream",
     "text": [
      "0\n"
     ]
    }
   ],
   "source": [
    "n,m,s=3,3,1\n",
    "x=(m-1+s)%n\n",
    "print(x)"
   ]
  },
  {
   "cell_type": "code",
   "execution_count": 63,
   "metadata": {},
   "outputs": [
    {
     "name": "stdout",
     "output_type": "stream",
     "text": [
      "1\n"
     ]
    }
   ],
   "source": [
    "n,m,s=1,1,1\n",
    "if n==0 or m==0:\n",
    "    x=0\n",
    "elif m==n:\n",
    "    x=s+(m-1)\n",
    "else:\n",
    "    x=(s - 1 + m) % n\n",
    "    if x==0:\n",
    "        x=s\n",
    "print(x)"
   ]
  },
  {
   "cell_type": "markdown",
   "metadata": {},
   "source": [
    "### Utopian Tree"
   ]
  },
  {
   "cell_type": "code",
   "execution_count": 71,
   "metadata": {},
   "outputs": [
    {
     "name": "stdout",
     "output_type": "stream",
     "text": [
      "14\n"
     ]
    }
   ],
   "source": [
    "n=5\n",
    "t=1\n",
    "for i in range(n+1):\n",
    "    if i==0:\n",
    "        t=t\n",
    "    elif i%2==1:\n",
    "        t=t*2\n",
    "    elif i%2==0:\n",
    "        t=t+1\n",
    "print(t)"
   ]
  },
  {
   "cell_type": "markdown",
   "metadata": {},
   "source": [
    "### Circular Array Rotation"
   ]
  },
  {
   "cell_type": "code",
   "execution_count": 9,
   "metadata": {},
   "outputs": [
    {
     "name": "stdout",
     "output_type": "stream",
     "text": [
      "3\n",
      "1\n",
      "2\n"
     ]
    }
   ],
   "source": [
    "a=[1,2,3]\n",
    "n=10\n",
    "queries=[0,1,2]\n",
    "ress=[]\n",
    "new = a[-n%len(a):] + a[:-n%len(a)]\n",
    "for i in queries:\n",
    "    ress.append(new[i])\n",
    "print('\\n'.join(map(str, ress)))"
   ]
  },
  {
   "cell_type": "code",
   "execution_count": 1,
   "metadata": {},
   "outputs": [
    {
     "name": "stdout",
     "output_type": "stream",
     "text": [
      "[2, 3, 1]\n"
     ]
    }
   ],
   "source": [
    "a=[1,2,3]\n",
    "n=2\n",
    "new = a[-n%len(a):] + a[:-n%len(a)]\n",
    "print(new)"
   ]
  },
  {
   "cell_type": "code",
   "execution_count": null,
   "metadata": {},
   "outputs": [],
   "source": []
  }
 ],
 "metadata": {
  "kernelspec": {
   "display_name": "Python 3",
   "language": "python",
   "name": "python3"
  },
  "language_info": {
   "codemirror_mode": {
    "name": "ipython",
    "version": 3
   },
   "file_extension": ".py",
   "mimetype": "text/x-python",
   "name": "python",
   "nbconvert_exporter": "python",
   "pygments_lexer": "ipython3",
   "version": "3.7.3"
  }
 },
 "nbformat": 4,
 "nbformat_minor": 2
}
