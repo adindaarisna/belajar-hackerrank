{
 "cells": [
  {
   "cell_type": "markdown",
   "metadata": {},
   "source": [
    "### Print Triangle - Staircase"
   ]
  },
  {
   "cell_type": "code",
   "execution_count": 25,
   "metadata": {},
   "outputs": [
    {
     "name": "stdout",
     "output_type": "stream",
     "text": [
      "3\n",
      "  #\n",
      " ##\n",
      "###\n"
     ]
    }
   ],
   "source": [
    "#!/bin/python3\n",
    "\n",
    "import math\n",
    "import os\n",
    "import random\n",
    "import re\n",
    "import sys\n",
    "\n",
    "# Complete the staircase function below.\n",
    "def staircase(n):\n",
    "    ress=[]\n",
    "    for i in range(n):\n",
    "        ins = []\n",
    "        for j in range(n-i-1):\n",
    "            ins.append(' ')\n",
    "        for k in range(n+1,n-i,-1):\n",
    "            ins.append('#')\n",
    "        ress.append(''.join(ins))\n",
    "    print(*ress, sep='\\n')\n",
    "\n",
    "if __name__ == '__main__':\n",
    "    n = int(input())\n",
    "\n",
    "    staircase(n)"
   ]
  },
  {
   "cell_type": "code",
   "execution_count": 24,
   "metadata": {},
   "outputs": [
    {
     "name": "stdout",
     "output_type": "stream",
     "text": [
      "     #\n",
      "    ##\n",
      "   ###\n",
      "  ####\n",
      " #####\n",
      "######\n"
     ]
    }
   ],
   "source": [
    "n=6\n",
    "ress=[]\n",
    "for i in range(n):\n",
    "    ins = []\n",
    "    for j in range(n-i-1):\n",
    "        ins.append(' ')\n",
    "    for k in range(n+1,n-i,-1):\n",
    "        ins.append('#')\n",
    "    ress.append(''.join(ins))\n",
    "print(*ress, sep='\\n')"
   ]
  },
  {
   "cell_type": "markdown",
   "metadata": {},
   "source": [
    "### Min-Max of Sum"
   ]
  },
  {
   "cell_type": "code",
   "execution_count": 8,
   "metadata": {},
   "outputs": [
    {
     "name": "stdout",
     "output_type": "stream",
     "text": [
      "40000000000003000076 1000000000000000000040000000000003000075\n"
     ]
    }
   ],
   "source": [
    "l=[1,20,3000000,40000000000000000000,5,6,7,8,9,10,2,2,2,2,2,1000000000000000000000000000000000000000]\n",
    "ressli=[]\n",
    "x=0\n",
    "for i in l:\n",
    "    x=sum(l)-i\n",
    "    ressli.append(x)\n",
    "    \n",
    "print(min(ressli),max(ressli))"
   ]
  },
  {
   "cell_type": "code",
   "execution_count": 11,
   "metadata": {},
   "outputs": [
    {
     "name": "stdout",
     "output_type": "stream",
     "text": [
      "1 2 3\n",
      "3 5\n"
     ]
    }
   ],
   "source": [
    "#!/bin/python3\n",
    "\n",
    "import math\n",
    "import os\n",
    "import random\n",
    "import re\n",
    "import sys\n",
    "\n",
    "# Complete the miniMaxSum function below.\n",
    "def miniMaxSum(arr):\n",
    "    ressli=[]\n",
    "    x=0\n",
    "    for i in arr:\n",
    "        x=sum(arr)-i\n",
    "        ressli.append(x)\n",
    "        minn,maxx = min(ressli),max(ressli)\n",
    "    print(minn,maxx)\n",
    "\n",
    "if __name__ == '__main__':\n",
    "    arr = list(map(int, input().rstrip().split()))\n",
    "\n",
    "    miniMaxSum(arr)\n"
   ]
  },
  {
   "cell_type": "markdown",
   "metadata": {},
   "source": [
    "### Birthday Cake Candles"
   ]
  },
  {
   "cell_type": "code",
   "execution_count": 12,
   "metadata": {},
   "outputs": [
    {
     "name": "stdout",
     "output_type": "stream",
     "text": [
      "2\n"
     ]
    }
   ],
   "source": [
    "l=[3,2,1,3]\n",
    "maks,c=max(l),0\n",
    "for i in l:\n",
    "    if i==maks:\n",
    "        c+=1\n",
    "print(c)"
   ]
  },
  {
   "cell_type": "markdown",
   "metadata": {},
   "source": [
    "### TIme Conversion"
   ]
  },
  {
   "cell_type": "code",
   "execution_count": 26,
   "metadata": {},
   "outputs": [
    {
     "name": "stdout",
     "output_type": "stream",
     "text": [
      "a\n"
     ]
    }
   ],
   "source": [
    "str = \"aaaaabbbb\"\n",
    "newstr = str[-5:-4]\n",
    "print(newstr)"
   ]
  },
  {
   "cell_type": "code",
   "execution_count": 60,
   "metadata": {},
   "outputs": [
    {
     "name": "stdout",
     "output_type": "stream",
     "text": [
      "07:05:45\n"
     ]
    }
   ],
   "source": [
    "l=\"07:05:45pm\"\n",
    "ress=l[:-2]\n",
    "print(ress)"
   ]
  },
  {
   "cell_type": "code",
   "execution_count": 40,
   "metadata": {},
   "outputs": [
    {
     "name": "stdout",
     "output_type": "stream",
     "text": [
      "10koko\n"
     ]
    }
   ],
   "source": [
    "global str\n",
    "print(f'{10}'+'koko')"
   ]
  },
  {
   "cell_type": "code",
   "execution_count": 91,
   "metadata": {},
   "outputs": [
    {
     "name": "stdout",
     "output_type": "stream",
     "text": [
      "12:05:45\n"
     ]
    }
   ],
   "source": [
    "## SALAHHHHHHHHHHHHH\n",
    "\n",
    "l=\"00:05:45PM\"\n",
    "tm=l[-2:]\n",
    "ress=''\n",
    "if tm=='PM' or tm=='pm':\n",
    "    x=int(l[0:2])+12\n",
    "    ress=f'{x}'+l[2:-2]\n",
    "elif tm=='AM' or tm=='am':\n",
    "    ress=l[:-2]\n",
    "print(ress)"
   ]
  },
  {
   "cell_type": "code",
   "execution_count": 19,
   "metadata": {},
   "outputs": [
    {
     "name": "stdout",
     "output_type": "stream",
     "text": [
      "13:05:45\n"
     ]
    }
   ],
   "source": [
    "## FINAL RESULT\n",
    "\n",
    "s=\"01:05:45pm\"\n",
    "sn = s.lower()\n",
    "do=sn.find('pm')\n",
    "if sn.find('pm')>0:\n",
    "    if sn[:2]=='12':\n",
    "        ress=sn[:-2]\n",
    "    else:\n",
    "        x=int(sn[0:2])+12\n",
    "        ress=f'{x}'+sn[2:-2]\n",
    "elif sn.find('am')>0:\n",
    "    if sn[:2]=='12':\n",
    "        ress='00'+sn[2:-2]\n",
    "    else:\n",
    "        ress=sn[:-2]\n",
    "else:\n",
    "    ress=s\n",
    "print(ress)"
   ]
  },
  {
   "cell_type": "markdown",
   "metadata": {},
   "source": [
    "### Althernating Characters"
   ]
  },
  {
   "cell_type": "code",
   "execution_count": 32,
   "metadata": {},
   "outputs": [
    {
     "name": "stdout",
     "output_type": "stream",
     "text": [
      "[3, 4, 0, 0, 4]\n"
     ]
    }
   ],
   "source": [
    "s=['AAAA','BBBBB','ABABABAB','BABABA','AAABBB']\n",
    "ress=[]\n",
    "for i in range(len(s)):\n",
    "    c=0\n",
    "    for j in range(len(s[i])-1):\n",
    "        if s[i][j]==s[i][j+1]:\n",
    "            c+=1\n",
    "    ress.append(c)\n",
    "print(ress)\n",
    "    \n",
    "            "
   ]
  },
  {
   "cell_type": "code",
   "execution_count": 30,
   "metadata": {},
   "outputs": [
    {
     "name": "stdout",
     "output_type": "stream",
     "text": [
      "4\n"
     ]
    }
   ],
   "source": [
    "s=['AAAA','BBBBB','ABABABAB','BABABA','AAABBB']\n",
    "c=0\n",
    "for j in range(len(s[0])-1):\n",
    "    if s[0][j]==s[0][j+1]:\n",
    "        c+=1\n",
    "print(c)"
   ]
  },
  {
   "cell_type": "code",
   "execution_count": 41,
   "metadata": {},
   "outputs": [
    {
     "name": "stdout",
     "output_type": "stream",
     "text": [
      "['a', 'a']\n"
     ]
    }
   ],
   "source": [
    "s=['a','a']\n",
    "print(s)"
   ]
  },
  {
   "cell_type": "code",
   "execution_count": 45,
   "metadata": {},
   "outputs": [
    {
     "name": "stdout",
     "output_type": "stream",
     "text": [
      "[3, 4, 0, 0, 4]\n"
     ]
    }
   ],
   "source": [
    "s=['AAAA','BBBBB','ABABABAB','BABABA','AAABBB']\n",
    "ress=[]\n",
    "for i in s:\n",
    "    c=0\n",
    "    prev='x'\n",
    "    for j in i:\n",
    "        if prev!='x':\n",
    "            if prev==j:\n",
    "                c+=1\n",
    "        prev=j\n",
    "    ress.append(c)\n",
    "print(ress)\n",
    "    \n",
    "            "
   ]
  },
  {
   "cell_type": "code",
   "execution_count": 43,
   "metadata": {},
   "outputs": [
    {
     "name": "stdout",
     "output_type": "stream",
     "text": [
      "k\n"
     ]
    }
   ],
   "source": [
    "a='a'\n",
    "a='k'\n",
    "print(a)"
   ]
  },
  {
   "cell_type": "code",
   "execution_count": 49,
   "metadata": {},
   "outputs": [
    {
     "name": "stdout",
     "output_type": "stream",
     "text": [
      "3\n"
     ]
    }
   ],
   "source": [
    "s='aaaa'\n",
    "c=0\n",
    "prev='x'\n",
    "for i in s:\n",
    "    if prev!='x':\n",
    "        if i==prev:\n",
    "            c+=1\n",
    "    prev=i\n",
    "print(c)"
   ]
  },
  {
   "cell_type": "markdown",
   "metadata": {},
   "source": [
    "### Beautiful Binary String"
   ]
  },
  {
   "cell_type": "code",
   "execution_count": 70,
   "metadata": {},
   "outputs": [
    {
     "name": "stdout",
     "output_type": "stream",
     "text": [
      "3\n"
     ]
    }
   ],
   "source": [
    "l='0100101010'\n",
    "new = l\n",
    "count=0\n",
    "while new.find('010')>-1:\n",
    "    n=new.find('010')\n",
    "    new=new[n+3:]\n",
    "    count+=1\n",
    "print(count)"
   ]
  },
  {
   "cell_type": "code",
   "execution_count": 56,
   "metadata": {},
   "outputs": [
    {
     "name": "stdout",
     "output_type": "stream",
     "text": [
      "defghi\n"
     ]
    }
   ],
   "source": [
    "l='abcdefghi'\n",
    "new=l[1+2:]\n",
    "print(new)"
   ]
  },
  {
   "cell_type": "code",
   "execution_count": 72,
   "metadata": {},
   "outputs": [
    {
     "name": "stdout",
     "output_type": "stream",
     "text": [
      "0\n"
     ]
    }
   ],
   "source": [
    "l='01100'\n",
    "new = l\n",
    "count=0\n",
    "while new.find('010')>-1:\n",
    "    n=new.find('010')\n",
    "    new=new[n+3:]\n",
    "    count+=1\n",
    "print(count)"
   ]
  },
  {
   "cell_type": "code",
   "execution_count": 73,
   "metadata": {},
   "outputs": [
    {
     "name": "stdout",
     "output_type": "stream",
     "text": [
      "2\n"
     ]
    }
   ],
   "source": [
    "l='0101010'\n",
    "new = l\n",
    "count=0\n",
    "while new.find('010')>-1:\n",
    "    n=new.find('010')\n",
    "    new=new[n+3:]\n",
    "    count+=1\n",
    "print(count)"
   ]
  },
  {
   "cell_type": "markdown",
   "metadata": {},
   "source": [
    "### The Love Letter Mystery"
   ]
  },
  {
   "cell_type": "code",
   "execution_count": 74,
   "metadata": {},
   "outputs": [
    {
     "name": "stdout",
     "output_type": "stream",
     "text": [
      "'a'\n"
     ]
    }
   ],
   "source": [
    "print(ascii('a'))"
   ]
  },
  {
   "cell_type": "code",
   "execution_count": 80,
   "metadata": {},
   "outputs": [
    {
     "name": "stdout",
     "output_type": "stream",
     "text": [
      "Hasil dari a dinaikkan sati alfabet:  98\n",
      "Perubahan angka 98 ke karakter:  b\n"
     ]
    }
   ],
   "source": [
    "print(\"Hasil dari a dinaikkan sati alfabet: \",ord('a')+1)\n",
    "print(\"Perubahan angka 98 ke karakter: \",chr(98))"
   ]
  },
  {
   "cell_type": "code",
   "execution_count": 114,
   "metadata": {},
   "outputs": [
    {
     "name": "stdout",
     "output_type": "stream",
     "text": [
      "5\n"
     ]
    }
   ],
   "source": [
    "s='abcd'\n",
    "n=len(s)\n",
    "ress=0\n",
    "for i in range(int(n/2)+1):\n",
    "    ress=ress+abs(ord(s[i])-ord(s[-i-1]))\n",
    "    \n",
    "print(ress)"
   ]
  },
  {
   "cell_type": "code",
   "execution_count": 88,
   "metadata": {},
   "outputs": [
    {
     "name": "stdout",
     "output_type": "stream",
     "text": [
      "looooc\n"
     ]
    }
   ],
   "source": [
    "j='loooo'\n",
    "s='cba'\n",
    "n=len(s)\n",
    "ress=''\n",
    "ress=j+s[:int(n/2)]\n",
    "print(ress)"
   ]
  },
  {
   "cell_type": "code",
   "execution_count": 92,
   "metadata": {},
   "outputs": [
    {
     "name": "stdout",
     "output_type": "stream",
     "text": [
      "2\n"
     ]
    }
   ],
   "source": [
    "s1=ord('a')-ord('c')\n",
    "print(abs(int(s1)))"
   ]
  },
  {
   "cell_type": "code",
   "execution_count": 118,
   "metadata": {},
   "outputs": [
    {
     "name": "stdout",
     "output_type": "stream",
     "text": [
      "4\n",
      "a\n",
      "d\n"
     ]
    }
   ],
   "source": [
    "s='abcd'\n",
    "ress=abs(ord(s[0])-ord(s[-1]))\n",
    "ress2=abs(ord(s[1])-ord(s[-2]))\n",
    "print(ress+ress2)\n",
    "print(s[0])\n",
    "print(s[-1])"
   ]
  },
  {
   "cell_type": "markdown",
   "metadata": {},
   "source": [
    "### Apple and Orange"
   ]
  },
  {
   "cell_type": "code",
   "execution_count": 5,
   "metadata": {},
   "outputs": [
    {
     "name": "stdout",
     "output_type": "stream",
     "text": [
      "1 2\n"
     ]
    }
   ],
   "source": [
    "s=7\n",
    "t=10\n",
    "a=4\n",
    "b=12\n",
    "m=3\n",
    "n=3\n",
    "apple=[2,3,-4]\n",
    "orange=[3,-2,-4]\n",
    "appleonsam=0\n",
    "orangeonsam=0\n",
    "for i in apple:\n",
    "    x=i+a\n",
    "    if x<=t and x>=s:\n",
    "        appleonsam+=1\n",
    "for j in orange:\n",
    "    y=j+b\n",
    "    if y<=t and y>=s:\n",
    "        orangeonsam+=1\n",
    "print(appleonsam,orangeonsam)"
   ]
  },
  {
   "cell_type": "code",
   "execution_count": 6,
   "metadata": {},
   "outputs": [
    {
     "name": "stdout",
     "output_type": "stream",
     "text": [
      "1 1\n"
     ]
    }
   ],
   "source": [
    "s=7\n",
    "t=11\n",
    "a=5\n",
    "b=15\n",
    "m=3\n",
    "n=3\n",
    "apples=[-2,2,1]\n",
    "oranges=[5,-6]\n",
    "appleonsam=0\n",
    "orangeonsam=0\n",
    "for i in apples:\n",
    "    x=i+a\n",
    "    if x<=t and x>=s:\n",
    "        appleonsam+=1\n",
    "for j in oranges:\n",
    "    y=j+b\n",
    "    if y<=t and y>=s:\n",
    "        orangeonsam+=1\n",
    "print(appleonsam,orangeonsam)"
   ]
  },
  {
   "cell_type": "markdown",
   "metadata": {},
   "source": [
    "### Kangoroo"
   ]
  },
  {
   "cell_type": "code",
   "execution_count": null,
   "metadata": {},
   "outputs": [],
   "source": [
    "x1=0\n",
    "v1=3\n",
    "x2=4\n",
    "v2=2\n",
    "nextn1=0\n",
    "nextn2=0\n",
    "while (nextx1 > 0 and nextx2 > 0 and nextx1 != nextx2):\n",
    "    nextx1=+=v1\n",
    "    nextx2+=v2\n",
    "else:\n",
    "    "
   ]
  },
  {
   "cell_type": "code",
   "execution_count": 1,
   "metadata": {},
   "outputs": [
    {
     "name": "stdout",
     "output_type": "stream",
     "text": [
      "YES\n"
     ]
    }
   ],
   "source": [
    "x1=0\n",
    "v1=3\n",
    "x2=4\n",
    "v2=2\n",
    "nextn1=0\n",
    "nextn2=0\n",
    "if x1>x2 and v1>v2:\n",
    "    print('NO')\n",
    "elif x1<x2 and v1<v2:\n",
    "    print('NO')\n",
    "else:\n",
    "    print('YES')\n",
    "    "
   ]
  },
  {
   "cell_type": "code",
   "execution_count": 4,
   "metadata": {},
   "outputs": [
    {
     "name": "stdout",
     "output_type": "stream",
     "text": [
      "NO\n"
     ]
    }
   ],
   "source": [
    "x1=0\n",
    "v1=2\n",
    "x2=5\n",
    "v2=3\n",
    "nextn1=0\n",
    "nextn2=0\n",
    "ress=''\n",
    "if x1>x2 and v1>v2:\n",
    "    ress='NO'\n",
    "elif x1<x2 and v1<v2:\n",
    "    ress='NO'\n",
    "elif x1%v1==0:\n",
    "    ress='YES'\n",
    "elif x1%v1==1:\n",
    "    ress='NO'\n",
    "elif x2%v2==0:\n",
    "    ress='YES'\n",
    "elif x2%v2==1:\n",
    "    ress='NO'\n",
    "else:\n",
    "    ress='YES'\n",
    "print(ress)"
   ]
  },
  {
   "cell_type": "code",
   "execution_count": 2,
   "metadata": {},
   "outputs": [
    {
     "ename": "KeyboardInterrupt",
     "evalue": "",
     "output_type": "error",
     "traceback": [
      "\u001b[1;31m---------------------------------------------------------------------------\u001b[0m",
      "\u001b[1;31mKeyboardInterrupt\u001b[0m                         Traceback (most recent call last)",
      "\u001b[1;32m<ipython-input-2-8ef14d0622fd>\u001b[0m in \u001b[0;36m<module>\u001b[1;34m\u001b[0m\n\u001b[0;32m      8\u001b[0m     \u001b[1;32mfor\u001b[0m \u001b[0mi\u001b[0m \u001b[1;32min\u001b[0m \u001b[0mrange\u001b[0m\u001b[1;33m(\u001b[0m\u001b[1;36m10000\u001b[0m\u001b[1;33m)\u001b[0m\u001b[1;33m:\u001b[0m\u001b[1;33m\u001b[0m\u001b[1;33m\u001b[0m\u001b[0m\n\u001b[0;32m      9\u001b[0m         \u001b[0mm\u001b[0m\u001b[1;33m=\u001b[0m\u001b[0mx1\u001b[0m\u001b[1;33m+\u001b[0m\u001b[1;33m(\u001b[0m\u001b[0mv1\u001b[0m\u001b[1;33m*\u001b[0m\u001b[0mi\u001b[0m\u001b[1;33m)\u001b[0m\u001b[1;33m\u001b[0m\u001b[1;33m\u001b[0m\u001b[0m\n\u001b[1;32m---> 10\u001b[1;33m         \u001b[0mn\u001b[0m\u001b[1;33m=\u001b[0m\u001b[0mx2\u001b[0m\u001b[1;33m+\u001b[0m\u001b[1;33m(\u001b[0m\u001b[0mv2\u001b[0m\u001b[1;33m*\u001b[0m\u001b[0mi\u001b[0m\u001b[1;33m)\u001b[0m\u001b[1;33m\u001b[0m\u001b[1;33m\u001b[0m\u001b[0m\n\u001b[0m\u001b[0;32m     11\u001b[0m         \u001b[1;32mif\u001b[0m\u001b[1;33m(\u001b[0m\u001b[0mm\u001b[0m \u001b[1;33m==\u001b[0m \u001b[0mn\u001b[0m\u001b[1;33m)\u001b[0m\u001b[1;33m:\u001b[0m\u001b[1;33m\u001b[0m\u001b[1;33m\u001b[0m\u001b[0m\n\u001b[0;32m     12\u001b[0m             \u001b[0mress\u001b[0m\u001b[1;33m=\u001b[0m\u001b[1;34m'yes'\u001b[0m\u001b[1;33m\u001b[0m\u001b[1;33m\u001b[0m\u001b[0m\n",
      "\u001b[1;31mKeyboardInterrupt\u001b[0m: "
     ]
    }
   ],
   "source": [
    "x1=0\n",
    "v1=2\n",
    "x2=5\n",
    "v2=3\n",
    "m,n= 0,0\n",
    "ress='NO'\n",
    "while ress=='NO':\n",
    "    for i in range(10000):\n",
    "        m=x1+(v1*i)\n",
    "        n=x2+(v2*i)\n",
    "        if(m == n):\n",
    "            ress='YES'\n",
    "print(ress)"
   ]
  },
  {
   "cell_type": "code",
   "execution_count": 2,
   "metadata": {},
   "outputs": [
    {
     "name": "stdout",
     "output_type": "stream",
     "text": [
      "NO\n"
     ]
    }
   ],
   "source": [
    "x1=0\n",
    "v1=2\n",
    "x2=5\n",
    "v2=3\n",
    "ress=''\n",
    "if x1==x1 and v1==v2:\n",
    "    #kecepatan kanguru dan titik start sama\n",
    "    ress='YES'\n",
    "elif x1==x2:\n",
    "    #titik start sama \n",
    "    ress='YES'\n",
    "elif x1!=x2 and v1==v2:\n",
    "    #kecepatan kanguru sama tapi titik start berbeda\n",
    "    ress='NO'\n",
    "elif x1>x2 and v1>v2:\n",
    "    ress='NO'\n",
    "elif x1<x2 and v1<v2:\n",
    "    ress='NO'\n",
    "elif x1%v1==0:\n",
    "    ress='YES'\n",
    "elif x1%v1==1:\n",
    "    ress='NO'\n",
    "elif x2%v2==0:\n",
    "    ress='YES'\n",
    "elif x2%v2==1:\n",
    "    ress='NO'\n",
    "print(ress)"
   ]
  },
  {
   "cell_type": "code",
   "execution_count": 16,
   "metadata": {},
   "outputs": [
    {
     "name": "stdout",
     "output_type": "stream",
     "text": [
      "YES\n",
      "-0.0\n",
      "0.0\n"
     ]
    }
   ],
   "source": [
    "x1=0\n",
    "v1=2\n",
    "x2=0\n",
    "v2=10\n",
    "ress=''\n",
    "lo = (x2-x1)/(v1-v2)\n",
    "lx2 = lo*v2 + x2\n",
    "if (lo).is_integer() and lx2>=lo:\n",
    "    ress='YES'\n",
    "else:\n",
    "    ress='NO'\n",
    "print(ress)\n",
    "print(lo)\n",
    "print(lx2)"
   ]
  },
  {
   "cell_type": "code",
   "execution_count": 9,
   "metadata": {},
   "outputs": [
    {
     "data": {
      "text/plain": [
       "False"
      ]
     },
     "execution_count": 9,
     "metadata": {},
     "output_type": "execute_result"
    }
   ],
   "source": [
    "(1.0).is_integer()\n",
    "(1.1).is_integer()"
   ]
  },
  {
   "cell_type": "markdown",
   "metadata": {},
   "source": [
    "### Kangoroo - Pass all teh test cases"
   ]
  },
  {
   "cell_type": "code",
   "execution_count": 18,
   "metadata": {},
   "outputs": [
    {
     "name": "stdout",
     "output_type": "stream",
     "text": [
      "NO\n"
     ]
    }
   ],
   "source": [
    "x1=0\n",
    "v1=2\n",
    "x2=0\n",
    "v2=10\n",
    "ress=''\n",
    "if x1==x2 and v1!=v2:\n",
    "    ress='NO'\n",
    "elif x1!=x2 and v1==v2:\n",
    "    ress='NO'\n",
    "elif x1==x2 and v1==v2:\n",
    "    ress='YES'\n",
    "elif x2>x1 and v2>v1:\n",
    "    ress='NO'\n",
    "elif x1>x2 and v1>v2:\n",
    "    ress='NO'\n",
    "else:    \n",
    "    lo = (x2-x1)/(v1-v2)\n",
    "    lx2 = lo*v2 + x2\n",
    "    if (lo).is_integer() and lx2>=lo:\n",
    "        ress='YES'\n",
    "    else:\n",
    "        ress='NO'\n",
    "print(ress)"
   ]
  },
  {
   "cell_type": "code",
   "execution_count": null,
   "metadata": {},
   "outputs": [],
   "source": []
  }
 ],
 "metadata": {
  "kernelspec": {
   "display_name": "Python 3",
   "language": "python",
   "name": "python3"
  },
  "language_info": {
   "codemirror_mode": {
    "name": "ipython",
    "version": 3
   },
   "file_extension": ".py",
   "mimetype": "text/x-python",
   "name": "python",
   "nbconvert_exporter": "python",
   "pygments_lexer": "ipython3",
   "version": "3.7.3"
  }
 },
 "nbformat": 4,
 "nbformat_minor": 2
}
