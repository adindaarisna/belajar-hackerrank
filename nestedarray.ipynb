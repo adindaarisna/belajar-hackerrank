{
 "cells": [
  {
   "cell_type": "code",
   "execution_count": 9,
   "metadata": {},
   "outputs": [
    {
     "name": "stdout",
     "output_type": "stream",
     "text": [
      "Print Semua L:  [['a', 12, 'A'], ['b', 10, 'B'], ['c', 20, 'C'], ['d', 20, 'D'], ['e', 15, 'E']]\n",
      "\n",
      "Print L[0][2]:  A\n"
     ]
    }
   ],
   "source": [
    "L = [['a', 12, 'A'], ['b', 10, 'B'], ['c', 20, 'C'], ['d', 20, 'D'], ['e', 15, 'E']]\n",
    "print(\"Print Semua L: \", L)\n",
    "print(\"\\nPrint L[0][2]: \", L[0][2])"
   ]
  },
  {
   "cell_type": "code",
   "execution_count": 12,
   "metadata": {},
   "outputs": [
    {
     "name": "stdout",
     "output_type": "stream",
     "text": [
      "Print Semua L: \n",
      " [['a', 12, 'A'], ['b', 10, 'B'], ['c', 20, 'C'], ['d', 20, 'D'], ['e', 15, 'E']]\n",
      "\n",
      "Print isi antara index 0 - 3: \n",
      " [['a', 12, 'A'], ['b', 10, 'B'], ['c', 20, 'C']]\n",
      "\n",
      "Print isi antara index 4 - akhir: \n",
      " [['d', 20, 'D'], ['e', 15, 'E']]\n"
     ]
    }
   ],
   "source": [
    "L = [['a', 12, 'A'], ['b', 10, 'B'], ['c', 20, 'C'], ['d', 20, 'D'], ['e', 15, 'E']]\n",
    "print(\"Print Semua L: \\n\", L)\n",
    "print(\"\\nPrint isi antara index 0 - 3: \\n\", L[:3])\n",
    "print(\"\\nPrint isi antara index 4 - akhir: \\n\", L[3:])"
   ]
  },
  {
   "cell_type": "markdown",
   "metadata": {},
   "source": [
    "### Flatten Nested List "
   ]
  },
  {
   "cell_type": "code",
   "execution_count": 15,
   "metadata": {},
   "outputs": [
    {
     "name": "stdout",
     "output_type": "stream",
     "text": [
      "['Jakarta', 'Bandung', 'Subang', 'Banten', 'Padang', 'Lampung', 'Pontianak', 'Banjarmasin']\n"
     ]
    }
   ],
   "source": [
    "cities = [[\"Jakarta\", \"Bandung\", \"Subang\", \"Banten\"],[\"Padang\", \"Lampung\"],[\"Pontianak\", \"Banjarmasin\"]]\n",
    "flatten_cities = []\n",
    "for sub in cities:\n",
    "    for city in sub:\n",
    "        flatten_cities.append(city)\n",
    "        \n",
    "print(flatten_cities)"
   ]
  },
  {
   "cell_type": "markdown",
   "metadata": {},
   "source": [
    "### Split Nested List"
   ]
  },
  {
   "cell_type": "code",
   "execution_count": 18,
   "metadata": {},
   "outputs": [
    {
     "name": "stdout",
     "output_type": "stream",
     "text": [
      "List ganjil:  [1, 3, 5, 7]\n",
      "List genap :  [2, 4, 6, 8]\n"
     ]
    }
   ],
   "source": [
    "initial_list = [[1,2], [3,4], [5,6], [7,8]]\n",
    "ganjil, genap = map(list, zip(*initial_list))\n",
    "print(\"List ganjil: \", ganjil)\n",
    "print(\"List genap : \", genap)"
   ]
  },
  {
   "cell_type": "markdown",
   "metadata": {},
   "source": [
    "### Split Nested List - with easy understand algo"
   ]
  },
  {
   "cell_type": "code",
   "execution_count": 21,
   "metadata": {},
   "outputs": [
    {
     "name": "stdout",
     "output_type": "stream",
     "text": [
      "List ganjil:  [1, 3, 5, 7]\n",
      "List genap:  [2, 4, 6, 8]\n"
     ]
    }
   ],
   "source": [
    "initial_list = [[1,2], [3,4], [5,6], [7,8]]\n",
    "ganjil = [i[0] for i in initial_list]\n",
    "genap = [i[1] for i in initial_list]\n",
    "print(\"List ganjil: \", ganjil)\n",
    "print(\"List genap: \", genap)"
   ]
  },
  {
   "cell_type": "markdown",
   "metadata": {},
   "source": [
    "### The number of list in nested list"
   ]
  },
  {
   "cell_type": "code",
   "execution_count": 22,
   "metadata": {},
   "outputs": [
    {
     "name": "stdout",
     "output_type": "stream",
     "text": [
      "4\n"
     ]
    }
   ],
   "source": [
    "initial_list = [[1,2], [3,4], [5,6], [7,8]]\n",
    "print(len(initial_list))"
   ]
  },
  {
   "cell_type": "markdown",
   "metadata": {},
   "source": [
    "### Sort() and Sorted() - nama sebagai key sortnya"
   ]
  },
  {
   "cell_type": "code",
   "execution_count": 7,
   "metadata": {},
   "outputs": [
    {
     "name": "stdout",
     "output_type": "stream",
     "text": [
      "List awal: \n",
      " [['adinda', 40], ['cania', 44], ['banu', 15], ['lanny', 30]]\n",
      "List hasil sorted(): \n",
      " [['adinda', 40], ['banu', 15], ['cania', 44], ['lanny', 30]]\n"
     ]
    }
   ],
   "source": [
    "in_list = [[\"adinda\",40],[\"cania\",44],[\"banu\",15],[\"lanny\",30]]\n",
    "x = sorted(in_list)\n",
    "print(\"List awal: \\n\",in_list)\n",
    "print(\"List hasil sorted(): \\n\",x)"
   ]
  },
  {
   "cell_type": "code",
   "execution_count": 10,
   "metadata": {},
   "outputs": [
    {
     "name": "stdout",
     "output_type": "stream",
     "text": [
      "List awal: \n",
      " [1, 2, 8, 22, 90, 100]\n",
      "List hasil sort(): \n",
      " None\n"
     ]
    }
   ],
   "source": [
    "in_list = [1,2,8,90,22,100]\n",
    "x = in_list.sort()\n",
    "print(\"List awal: \\n\",in_list)\n",
    "print(\"List hasil sort(): \\n\",x)"
   ]
  },
  {
   "cell_type": "markdown",
   "metadata": {},
   "source": [
    "### Sorted() in Nested List"
   ]
  },
  {
   "cell_type": "code",
   "execution_count": 19,
   "metadata": {},
   "outputs": [
    {
     "name": "stdout",
     "output_type": "stream",
     "text": [
      "[['z', 12], ['g', 8], ['b', 10], ['a', 3]]\n"
     ]
    }
   ],
   "source": [
    "L = [[\"z\",12],[\"b\",10],[\"a\",3],[\"g\",8]]\n",
    "Lnew = sorted(L, reverse=True)\n",
    "print(Lnew)"
   ]
  },
  {
   "cell_type": "code",
   "execution_count": 21,
   "metadata": {},
   "outputs": [
    {
     "name": "stdout",
     "output_type": "stream",
     "text": [
      "Sort berdasarkan index 1:  [['a', 3], ['g', 8], ['b', 10], ['z', 12]]\n"
     ]
    }
   ],
   "source": [
    "L = [[\"z\",12],[\"b\",10],[\"a\",3],[\"g\",8]]\n",
    "Lsortage = sorted(L, key= lambda x: x[1])\n",
    "print(\"Sort berdasarkan index 1: \",Lsortage)"
   ]
  },
  {
   "cell_type": "code",
   "execution_count": 27,
   "metadata": {},
   "outputs": [
    {
     "name": "stdout",
     "output_type": "stream",
     "text": [
      "Sort berdasarkan index 2: \n",
      " [['b', 10, 900], ['a', 3, 500], ['g', 8, 300], ['z', 12, 100]]\n"
     ]
    }
   ],
   "source": [
    "L = [[\"z\",12,100],[\"b\",10,900],[\"a\",3,500],[\"g\",8,300]]\n",
    "Lsortage = sorted(L, key= lambda x: x[2], reverse=True)\n",
    "print(\"Sort berdasarkan index 2: \\n\",Lsortage)"
   ]
  },
  {
   "cell_type": "markdown",
   "metadata": {},
   "source": [
    "### Remove Elemen from Nested List "
   ]
  },
  {
   "cell_type": "code",
   "execution_count": 46,
   "metadata": {},
   "outputs": [
    {
     "name": "stdout",
     "output_type": "stream",
     "text": [
      "['g', 8, ['b', 10], ['a', 3], ['g', 8]]\n"
     ]
    }
   ],
   "source": [
    "L = [[\"z\",12],[\"b\",10],[\"a\",3],[\"g\",8]]\n",
    "for sub in range(len(L)):\n",
    "    if L[sub][1] != 12:\n",
    "        L_new.append(L[sub])\n",
    "print(L_new)"
   ]
  },
  {
   "cell_type": "code",
   "execution_count": 68,
   "metadata": {},
   "outputs": [
    {
     "name": "stdout",
     "output_type": "stream",
     "text": [
      "12\n",
      "[['b', 10], ['a', 3], ['g', 8]]\n",
      "b\n"
     ]
    }
   ],
   "source": [
    "L = [[\"z\",12],[\"b\",10],[\"a\",3],[\"g\",8]]\n",
    "print(\"Lsit lengkap: \",L)\n",
    "L_new = []\n",
    "L_max = max(L, key=lambda x: x[1])\n",
    "print(L_max[1])\n",
    "for sub in range(len(L)):\n",
    "    if L[sub][1] != L_max[1]:\n",
    "        L_new.append(L[sub])\n",
    "print(\"\\nList setelah di delete maksnya: \"L_new)\n",
    "L_new_max = max(L_new, key=lambda x:x[1])\n",
    "\n",
    "ress=[]\n",
    "for x in range(len(L_new)):\n",
    "    if L_new[x][1] == L_new_max[1]:\n",
    "        ress.append(L_new[x])\n",
    "print(\"\\n\",ress[0][0])"
   ]
  },
  {
   "cell_type": "code",
   "execution_count": 73,
   "metadata": {},
   "outputs": [
    {
     "name": "stdout",
     "output_type": "stream",
     "text": [
      "Lsit lengkap:  [['z', 12], ['b', 10], ['a', 3], ['g', 8]]\n",
      "Nilai maks dari L1:  12\n",
      "\n",
      "List setelah di delete maksnya:  [['b', 10], ['a', 3], ['g', 8]]\n",
      "Nama pemilik nilai:  b\n"
     ]
    }
   ],
   "source": [
    "L = [[\"z\",12],[\"b\",10],[\"a\",3],[\"g\",8]]\n",
    "print(\"Lsit lengkap: \",L)\n",
    "L2 = []\n",
    "max1 = max(L, key=lambda x: x[1])\n",
    "print(\"Nilai maks dari L1: \",max1[1])\n",
    "for sub in range(len(L)):\n",
    "    if L[sub][1] != max1[1]:\n",
    "        L2.append(L[sub])\n",
    "print(\"\\nList setelah di delete maksnya: \", L2)\n",
    "max2 = max(L2, key=lambda x:x[1])\n",
    "\n",
    "ress=[]\n",
    "for x in range(len(L2)):\n",
    "    if L2[x][1] == max2[1]:\n",
    "        ress.append(L2[x])\n",
    "print(\"Nama pemilik nilai: \",ress[0][0])"
   ]
  },
  {
   "cell_type": "code",
   "execution_count": null,
   "metadata": {},
   "outputs": [],
   "source": [
    "L = [[\"z\",12],[\"b\",10],[\"a\",3],[\"g\",8]]\n",
    "print(\"Lsit lengkap: \",L)\n",
    "L2 = []\n",
    "max1 = max(L, key=lambda x: x[1])\n",
    "print(\"Nilai maks dari L1: \",max1[1])\n",
    "for sub in range(len(L)):\n",
    "    if L[sub][1] != max1[1]:\n",
    "        L2.append(L[sub])\n",
    "print(\"\\nList setelah di delete maksnya: \", L2)\n",
    "max2 = max(L2, key=lambda x:x[1])\n",
    "\n",
    "ress=[]\n",
    "for x in range(len(L2)):\n",
    "    if L2[x][1] == max2[1]:\n",
    "        ress.append(L2[x])\n",
    "print(\"Nama pemilik nilai: \",ress[0][0])"
   ]
  },
  {
   "cell_type": "code",
   "execution_count": 3,
   "metadata": {},
   "outputs": [
    {
     "name": "stdout",
     "output_type": "stream",
     "text": [
      "[['z', 12], ['g', 8], ['b', 10], ['a', 3]]\n"
     ]
    }
   ],
   "source": [
    "L = [[\"z\",12],[\"b\",10],[\"a\",3],[\"g\",8]]\n",
    "L2 = sorted(L, reverse=True)\n",
    "print(L2)"
   ]
  },
  {
   "cell_type": "code",
   "execution_count": null,
   "metadata": {},
   "outputs": [],
   "source": []
  }
 ],
 "metadata": {
  "kernelspec": {
   "display_name": "Python 3",
   "language": "python",
   "name": "python3"
  },
  "language_info": {
   "codemirror_mode": {
    "name": "ipython",
    "version": 3
   },
   "file_extension": ".py",
   "mimetype": "text/x-python",
   "name": "python",
   "nbconvert_exporter": "python",
   "pygments_lexer": "ipython3",
   "version": "3.7.3"
  }
 },
 "nbformat": 4,
 "nbformat_minor": 2
}
