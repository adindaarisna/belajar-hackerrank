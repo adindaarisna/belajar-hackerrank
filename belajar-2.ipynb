{
 "cells": [
  {
   "cell_type": "markdown",
   "metadata": {},
   "source": [
    "### Nested List"
   ]
  },
  {
   "cell_type": "markdown",
   "metadata": {},
   "source": [
    "for a in student:\n",
    "        lscore = \n",
    "        print(student[1])"
   ]
  },
  {
   "cell_type": "code",
   "execution_count": 5,
   "metadata": {},
   "outputs": [
    {
     "name": "stdout",
     "output_type": "stream",
     "text": [
      "2\n",
      "as\n",
      "34\n",
      "er\n",
      "22\n",
      "[['as', 34.0], ['er', 22.0]]\n"
     ]
    }
   ],
   "source": [
    "if __name__ == '__main__':\n",
    "    students =[]\n",
    "    for list in range(int(input())):\n",
    "        for l in range(1):\n",
    "            name = input()\n",
    "            score = float(input())\n",
    "            students.insert(list, [name,score])\n",
    "    print(students)"
   ]
  },
  {
   "cell_type": "markdown",
   "metadata": {},
   "source": [
    "### Print the name of the second highest score student"
   ]
  },
  {
   "cell_type": "code",
   "execution_count": 1,
   "metadata": {},
   "outputs": [
    {
     "name": "stdout",
     "output_type": "stream",
     "text": [
      "4\n",
      "a\n",
      "12\n",
      "b\n",
      "12\n",
      "c\n",
      "45\n",
      "d\n",
      "10\n",
      "[['a', 12.0], ['b', 12.0], ['c', 45.0], ['d', 10.0]]\n",
      "a\n",
      "b\n"
     ]
    }
   ],
   "source": [
    "if __name__ == '__main__':\n",
    "    students =[]\n",
    "    for list in range(int(input())):\n",
    "        for l in range(1):\n",
    "            name = input()\n",
    "            score = float(input())\n",
    "            students.insert(list, [name,score])\n",
    "    print(students)\n",
    "    min1 = min(students, key=lambda x:x[1])\n",
    "    students2 = []\n",
    "    for sub in range(len(students)):\n",
    "        if students[sub][1] != min1[1]:\n",
    "            students2.append(students[sub])\n",
    "    min2 = min(students2, key=lambda x:x[1])\n",
    "    ress = []\n",
    "    for i in range(len(students2)):\n",
    "        if students2[i][1] == min2[1]:\n",
    "            ress.append(students2[i])\n",
    "    ress2 = sorted(ress)\n",
    "    for a in range(len(ress2)):\n",
    "        print(ress2[a][0])"
   ]
  },
  {
   "cell_type": "markdown",
   "metadata": {},
   "source": [
    "### The Minion Game"
   ]
  },
  {
   "cell_type": "code",
   "execution_count": null,
   "metadata": {},
   "outputs": [],
   "source": [
    "w = \"BANANA\"\n",
    "def minion(w):\n",
    "    \n",
    "    return "
   ]
  },
  {
   "cell_type": "code",
   "execution_count": 14,
   "metadata": {},
   "outputs": [
    {
     "name": "stdout",
     "output_type": "stream",
     "text": [
      "['BANANA']\n"
     ]
    }
   ],
   "source": [
    "import shlex\n",
    "w = 'BANANA'\n",
    "x = shlex.split(w)\n",
    "print(x)"
   ]
  },
  {
   "cell_type": "code",
   "execution_count": 25,
   "metadata": {},
   "outputs": [
    {
     "name": "stdout",
     "output_type": "stream",
     "text": [
      "['B', 'A', 'N', 'A', 'N', 'A']\n"
     ]
    }
   ],
   "source": [
    "w = 'BANANA'\n",
    "vowel = 'A,I,U,E,O'\n",
    "wlist=[]\n",
    "for i in range(len(w)):\n",
    "    wlist.append(w[i])\n",
    "print(wlist)\n",
    "        \n",
    "        "
   ]
  },
  {
   "cell_type": "code",
   "execution_count": 21,
   "metadata": {},
   "outputs": [
    {
     "ename": "TypeError",
     "evalue": "'int' object is not callable",
     "output_type": "error",
     "traceback": [
      "\u001b[1;31m---------------------------------------------------------------------------\u001b[0m",
      "\u001b[1;31mTypeError\u001b[0m                                 Traceback (most recent call last)",
      "\u001b[1;32m<ipython-input-21-79349fd5626f>\u001b[0m in \u001b[0;36m<module>\u001b[1;34m\u001b[0m\n\u001b[0;32m      1\u001b[0m \u001b[0mw\u001b[0m \u001b[1;33m=\u001b[0m \u001b[1;34m\"dad\"\u001b[0m\u001b[1;33m\u001b[0m\u001b[1;33m\u001b[0m\u001b[0m\n\u001b[1;32m----> 2\u001b[1;33m \u001b[0mx\u001b[0m\u001b[1;33m=\u001b[0m\u001b[0mlist\u001b[0m\u001b[1;33m(\u001b[0m\u001b[0mw\u001b[0m\u001b[1;33m)\u001b[0m\u001b[1;33m\u001b[0m\u001b[1;33m\u001b[0m\u001b[0m\n\u001b[0m\u001b[0;32m      3\u001b[0m \u001b[0mprint\u001b[0m\u001b[1;33m(\u001b[0m\u001b[0mx\u001b[0m\u001b[1;33m)\u001b[0m\u001b[1;33m\u001b[0m\u001b[1;33m\u001b[0m\u001b[0m\n",
      "\u001b[1;31mTypeError\u001b[0m: 'int' object is not callable"
     ]
    }
   ],
   "source": [
    "w = \"dad\"\n",
    "x=list(w)\n",
    "print(x)"
   ]
  },
  {
   "cell_type": "code",
   "execution_count": 12,
   "metadata": {},
   "outputs": [
    {
     "data": {
      "text/plain": [
       "[['A', 2], ['D', 2], ['I', 1], ['N', 1]]"
      ]
     },
     "execution_count": 12,
     "metadata": {},
     "output_type": "execute_result"
    }
   ],
   "source": [
    "def countCharInWord(w):\n",
    "    wlist=[]\n",
    "    for i in range(len(w)):\n",
    "        wlist.append(w[i])\n",
    "    count = []\n",
    "    charcount = []\n",
    "    for j in wlist:\n",
    "        jml = 0\n",
    "        for subj in wlist:\n",
    "            if subj == j:\n",
    "                jml+=1\n",
    "        charcount.append([j,jml])\n",
    "    unique_charcount = []\n",
    "    for k in range(len(charcount)):\n",
    "            if charcount[k] not in unique_charcount:\n",
    "                unique_charcount.append(charcount[k])\n",
    "    return unique_charcount\n",
    "countCharInWord(\"ADINDA\")\n",
    "\n"
   ]
  },
  {
   "cell_type": "code",
   "execution_count": 14,
   "metadata": {},
   "outputs": [
    {
     "data": {
      "text/plain": [
       "['J', 'O', 'N', 'I']"
      ]
     },
     "execution_count": 14,
     "metadata": {},
     "output_type": "execute_result"
    }
   ],
   "source": [
    "def wordToList(w):\n",
    "    wlist=[]\n",
    "    for i in range(len(w)):\n",
    "        wlist.append(w[i])\n",
    "    return wlist\n",
    "wordToList(\"JONI\")"
   ]
  },
  {
   "cell_type": "code",
   "execution_count": 15,
   "metadata": {},
   "outputs": [
    {
     "data": {
      "text/plain": [
       "[['A', 2], ['D', 2], ['I', 1], ['N', 1]]"
      ]
     },
     "execution_count": 15,
     "metadata": {},
     "output_type": "execute_result"
    }
   ],
   "source": [
    "def wordToList(w):\n",
    "    wlist=[]\n",
    "    for i in range(len(w)):\n",
    "        wlist.append(w[i])\n",
    "    return wlist\n",
    "\n",
    "def countCharInWord(wlist):\n",
    "    count = []\n",
    "    charcount = []\n",
    "    for j in wlist:\n",
    "        jml = 0\n",
    "        for subj in wlist:\n",
    "            if subj == j:\n",
    "                jml+=1\n",
    "        charcount.append([j,jml])\n",
    "    unique_charcount = []\n",
    "    for k in range(len(charcount)):\n",
    "            if charcount[k] not in unique_charcount:\n",
    "                unique_charcount.append(charcount[k])\n",
    "    return unique_charcount\n",
    "countCharInWord(wordToList(\"ADINDA\"))"
   ]
  },
  {
   "cell_type": "code",
   "execution_count": 4,
   "metadata": {},
   "outputs": [
    {
     "data": {
      "text/plain": [
       "['B',\n",
       " 'A',\n",
       " 'N',\n",
       " 'A',\n",
       " 'N',\n",
       " 'A',\n",
       " 'BA',\n",
       " 'AN',\n",
       " 'NA',\n",
       " 'AN',\n",
       " 'NA',\n",
       " 'BAN',\n",
       " 'ANA',\n",
       " 'NAN',\n",
       " 'ANA',\n",
       " 'BANA',\n",
       " 'ANAN',\n",
       " 'NANA',\n",
       " 'BANAN',\n",
       " 'ANANA',\n",
       " 'BANANA']"
      ]
     },
     "execution_count": 4,
     "metadata": {},
     "output_type": "execute_result"
    }
   ],
   "source": [
    "def wordToList(w):\n",
    "    wlist=[]\n",
    "    for i in range(len(w)):\n",
    "        wlist.append(w[i])\n",
    "    return wlist\n",
    "\n",
    "def countCharInWord(wlist):\n",
    "    count = []\n",
    "    charcount = []\n",
    "    for j in wlist:\n",
    "        jml = 0\n",
    "        for subj in wlist:\n",
    "            if subj == j:\n",
    "                jml+=1\n",
    "        charcount.append([j,jml])\n",
    "    unique_charcount = []\n",
    "    for k in range(len(charcount)):\n",
    "            if charcount[k] not in unique_charcount:\n",
    "                unique_charcount.append(charcount[k])\n",
    "    return unique_charcount\n",
    "\n",
    "def posibility(wlist):\n",
    "    n = len(wlist)\n",
    "    poss = []\n",
    "    for o in range(len(wlist)):\n",
    "        if o==0:\n",
    "            for k in range(len(wlist)):\n",
    "                poss.append(wlist[k])\n",
    "        elif o>0:\n",
    "            for m in range(n-o):\n",
    "                srt = ''\n",
    "                x = 0\n",
    "                for l in range(o+1):\n",
    "                    srt = srt + wlist[m+x]\n",
    "                    x+=1\n",
    "                poss.append(srt)\n",
    "    return poss\n",
    "\n",
    "posibility(wordToList(\"BANANA\"))"
   ]
  },
  {
   "cell_type": "code",
   "execution_count": 27,
   "metadata": {},
   "outputs": [
    {
     "ename": "IndexError",
     "evalue": "list index out of range",
     "output_type": "error",
     "traceback": [
      "\u001b[1;31m---------------------------------------------------------------------------\u001b[0m",
      "\u001b[1;31mIndexError\u001b[0m                                Traceback (most recent call last)",
      "\u001b[1;32m<ipython-input-27-387f4f5b4629>\u001b[0m in \u001b[0;36m<module>\u001b[1;34m\u001b[0m\n\u001b[0;32m      9\u001b[0m     \u001b[0mposs\u001b[0m\u001b[1;33m.\u001b[0m\u001b[0mappend\u001b[0m\u001b[1;33m(\u001b[0m\u001b[0mwlist\u001b[0m\u001b[1;33m[\u001b[0m\u001b[0mj\u001b[0m\u001b[1;33m]\u001b[0m\u001b[1;33m)\u001b[0m\u001b[1;33m\u001b[0m\u001b[1;33m\u001b[0m\u001b[0m\n\u001b[0;32m     10\u001b[0m     \u001b[1;32mfor\u001b[0m \u001b[0mk\u001b[0m \u001b[1;32min\u001b[0m \u001b[0mrange\u001b[0m\u001b[1;33m(\u001b[0m\u001b[0mn\u001b[0m\u001b[1;33m-\u001b[0m\u001b[1;36m1\u001b[0m\u001b[1;33m)\u001b[0m\u001b[1;33m:\u001b[0m\u001b[1;33m\u001b[0m\u001b[1;33m\u001b[0m\u001b[0m\n\u001b[1;32m---> 11\u001b[1;33m         \u001b[0mstr\u001b[0m \u001b[1;33m=\u001b[0m \u001b[0mwlist\u001b[0m\u001b[1;33m[\u001b[0m\u001b[0mj\u001b[0m\u001b[1;33m]\u001b[0m \u001b[1;33m+\u001b[0m \u001b[0mwlist\u001b[0m\u001b[1;33m[\u001b[0m\u001b[0mj\u001b[0m\u001b[1;33m+\u001b[0m\u001b[1;36m1\u001b[0m\u001b[1;33m]\u001b[0m\u001b[1;33m\u001b[0m\u001b[1;33m\u001b[0m\u001b[0m\n\u001b[0m\u001b[0;32m     12\u001b[0m         \u001b[0mposs\u001b[0m\u001b[1;33m.\u001b[0m\u001b[0mappend\u001b[0m\u001b[1;33m(\u001b[0m\u001b[0mstr\u001b[0m\u001b[1;33m)\u001b[0m\u001b[1;33m\u001b[0m\u001b[1;33m\u001b[0m\u001b[0m\n\u001b[0;32m     13\u001b[0m \u001b[0mprint\u001b[0m\u001b[1;33m(\u001b[0m\u001b[0mwlist\u001b[0m\u001b[1;33m)\u001b[0m\u001b[1;33m\u001b[0m\u001b[1;33m\u001b[0m\u001b[0m\n",
      "\u001b[1;31mIndexError\u001b[0m: list index out of range"
     ]
    }
   ],
   "source": [
    "w = 'BANANA'\n",
    "vowel = 'A,I,U,E,O'\n",
    "wlist=[]\n",
    "poss = []\n",
    "for i in range(len(w)):\n",
    "    wlist.append(w[i])\n",
    "n = len(wlist)\n",
    "for j in range(n):\n",
    "    poss.append(wlist[j])\n",
    "    for k in range(n-1):\n",
    "        str = wlist[j] + wlist[j+1]\n",
    "        poss.append(str)\n",
    "print(wlist)\n",
    "print(poss)"
   ]
  },
  {
   "cell_type": "code",
   "execution_count": 29,
   "metadata": {},
   "outputs": [
    {
     "name": "stdout",
     "output_type": "stream",
     "text": [
      "AB\n"
     ]
    }
   ],
   "source": [
    "x = ['A','B','C','D','E']\n",
    "str = x[0] + x[0+1]\n",
    "print(str)"
   ]
  },
  {
   "cell_type": "code",
   "execution_count": 34,
   "metadata": {},
   "outputs": [
    {
     "name": "stdout",
     "output_type": "stream",
     "text": [
      "['BA', 'AN', 'NA', 'AN', 'NA']\n"
     ]
    }
   ],
   "source": [
    "wlsit = ['A','B','C','D','E']\n",
    "n = len(wlist)\n",
    "poss = []\n",
    "for k in range(n-1):\n",
    "    str = wlist[k] + wlist[k+1]\n",
    "    poss.append(str)\n",
    "print(poss)"
   ]
  },
  {
   "cell_type": "code",
   "execution_count": 36,
   "metadata": {},
   "outputs": [
    {
     "name": "stdout",
     "output_type": "stream",
     "text": [
      "['BAN', 'ANA', 'NAN', 'ANA']\n"
     ]
    }
   ],
   "source": [
    "wlsit = ['A','B','C','D','E']\n",
    "n = len(wlist)\n",
    "poss = []\n",
    "for k in range(n-2):\n",
    "    str = wlist[k] + wlist[k+1] + wlist[k+2]\n",
    "    poss.append(str)\n",
    "print(poss)"
   ]
  },
  {
   "cell_type": "code",
   "execution_count": 35,
   "metadata": {},
   "outputs": [
    {
     "name": "stdout",
     "output_type": "stream",
     "text": [
      "['BANA', 'ANAN', 'NANA']\n"
     ]
    }
   ],
   "source": [
    "wlsit = ['A','B','C','D','E']\n",
    "n = len(wlist)\n",
    "poss = []\n",
    "for k in range(n-3):\n",
    "    str = wlist[k] + wlist[k+1] + wlist[k+2] + wlist[k+3]\n",
    "    poss.append(str)\n",
    "print(poss)"
   ]
  },
  {
   "cell_type": "code",
   "execution_count": 32,
   "metadata": {},
   "outputs": [
    {
     "name": "stdout",
     "output_type": "stream",
     "text": [
      "['BA', 'AN', 'NA', 'AN', 'NA', 'BA', 'AN', 'NA', 'AN', 'NA', 'BA', 'AN', 'NA', 'AN', 'NA', 'BA', 'AN', 'NA', 'AN', 'NA', 'BA', 'AN', 'NA', 'AN', 'NA']\n"
     ]
    }
   ],
   "source": [
    "wlist = ['B','A','N','A','N','A']\n",
    "n = len(wlist)\n",
    "poss = []\n",
    "for k in range(n-1):\n",
    "    for m in range(n-1):\n",
    "        srt = ''\n",
    "        for l in range(2):\n",
    "            srt = srt + wlist[m+l]\n",
    "        poss.append(srt)\n",
    "print(poss)"
   ]
  },
  {
   "cell_type": "code",
   "execution_count": 46,
   "metadata": {},
   "outputs": [
    {
     "name": "stdout",
     "output_type": "stream",
     "text": [
      "['BA', 'AN', 'NA', 'AN', 'NA']\n"
     ]
    }
   ],
   "source": [
    "wlist = ['B','A','N','A','N','A']\n",
    "n = len(wlist)\n",
    "poss = []\n",
    "for m in range(n-1):\n",
    "    srt = ''\n",
    "    for l in range(2):\n",
    "        srt = srt + wlist[m+l]\n",
    "    poss.append(srt)\n",
    "print(poss)"
   ]
  },
  {
   "cell_type": "code",
   "execution_count": 45,
   "metadata": {},
   "outputs": [
    {
     "name": "stdout",
     "output_type": "stream",
     "text": [
      "['BA', 'AN', 'NA', 'AN', 'NA']\n"
     ]
    }
   ],
   "source": [
    "wlist = ['B','A','N','A','N','A']\n",
    "n = len(wlist)\n",
    "poss = []\n",
    "for m in range(n-1):\n",
    "    srt = ''\n",
    "    for l in range(2):\n",
    "        srt = srt + wlist[m+l]\n",
    "    poss.append(srt)\n",
    "print(poss)"
   ]
  },
  {
   "cell_type": "code",
   "execution_count": 52,
   "metadata": {},
   "outputs": [
    {
     "ename": "IndexError",
     "evalue": "list index out of range",
     "output_type": "error",
     "traceback": [
      "\u001b[1;31m---------------------------------------------------------------------------\u001b[0m",
      "\u001b[1;31mIndexError\u001b[0m                                Traceback (most recent call last)",
      "\u001b[1;32m<ipython-input-52-8b1b947e1c5b>\u001b[0m in \u001b[0;36m<module>\u001b[1;34m\u001b[0m\n\u001b[0;32m      7\u001b[0m             \u001b[0msrt\u001b[0m \u001b[1;33m=\u001b[0m \u001b[1;34m''\u001b[0m\u001b[1;33m\u001b[0m\u001b[1;33m\u001b[0m\u001b[0m\n\u001b[0;32m      8\u001b[0m             \u001b[1;32mfor\u001b[0m \u001b[0ml\u001b[0m \u001b[1;32min\u001b[0m \u001b[0mrange\u001b[0m\u001b[1;33m(\u001b[0m\u001b[0mo\u001b[0m\u001b[1;33m+\u001b[0m\u001b[1;36m1\u001b[0m\u001b[1;33m)\u001b[0m\u001b[1;33m:\u001b[0m\u001b[1;33m\u001b[0m\u001b[1;33m\u001b[0m\u001b[0m\n\u001b[1;32m----> 9\u001b[1;33m                 \u001b[0msrt\u001b[0m \u001b[1;33m=\u001b[0m \u001b[0msrt\u001b[0m \u001b[1;33m+\u001b[0m \u001b[0mwlist\u001b[0m\u001b[1;33m[\u001b[0m\u001b[0mm\u001b[0m\u001b[1;33m+\u001b[0m\u001b[0ml\u001b[0m\u001b[1;33m]\u001b[0m\u001b[1;33m\u001b[0m\u001b[1;33m\u001b[0m\u001b[0m\n\u001b[0m\u001b[0;32m     10\u001b[0m             \u001b[0mposs\u001b[0m\u001b[1;33m.\u001b[0m\u001b[0mappend\u001b[0m\u001b[1;33m(\u001b[0m\u001b[0msrt\u001b[0m\u001b[1;33m)\u001b[0m\u001b[1;33m\u001b[0m\u001b[1;33m\u001b[0m\u001b[0m\n\u001b[0;32m     11\u001b[0m \u001b[0mprint\u001b[0m\u001b[1;33m(\u001b[0m\u001b[0mposs\u001b[0m\u001b[1;33m)\u001b[0m\u001b[1;33m\u001b[0m\u001b[1;33m\u001b[0m\u001b[0m\n",
      "\u001b[1;31mIndexError\u001b[0m: list index out of range"
     ]
    }
   ],
   "source": [
    "wlist = ['B','A','N','A','N','A']\n",
    "n = len(wlist)\n",
    "poss = []\n",
    "for o in range(len(wlist)):\n",
    "    if o>0:\n",
    "        for m in range(n-1):\n",
    "            srt = ''\n",
    "            for l in range(o+1):\n",
    "                srt = srt + wlist[m+l]\n",
    "            poss.append(srt)\n",
    "print(poss)"
   ]
  },
  {
   "cell_type": "code",
   "execution_count": 56,
   "metadata": {},
   "outputs": [
    {
     "name": "stdout",
     "output_type": "stream",
     "text": [
      "['BA', 'AN', 'NA', 'AN', 'NA', 'BAN', 'ANA', 'NAN', 'ANA', 'BANA', 'ANAN', 'NANA', 'BANAN', 'ANANA', 'BANANA']\n"
     ]
    }
   ],
   "source": [
    "wlist = ['B','A','N','A','N','A']\n",
    "n = len(wlist)\n",
    "poss = []\n",
    "for o in range(len(wlist)):\n",
    "    if o>0:\n",
    "        for m in range(n-o):\n",
    "            srt = ''\n",
    "            x = 0\n",
    "            for l in range(o+1):\n",
    "                srt = srt + wlist[m+x]\n",
    "                x+=1\n",
    "            poss.append(srt)\n",
    "print(poss)"
   ]
  },
  {
   "cell_type": "code",
   "execution_count": 1,
   "metadata": {},
   "outputs": [
    {
     "name": "stdout",
     "output_type": "stream",
     "text": [
      "['BA', 'AN', 'NA', 'AN', 'NA', 'BAN', 'ANA', 'NAN', 'ANA', 'BANA', 'ANAN', 'NANA', 'BANAN', 'ANANA', 'BANANA']\n",
      "15\n"
     ]
    }
   ],
   "source": [
    "wlist = ['B','A','N','A','N','A']\n",
    "n = len(wlist)\n",
    "poss = []\n",
    "for o in range(len(wlist)):\n",
    "    if o>0:\n",
    "        for m in range(n-o):\n",
    "            srt = ''\n",
    "            x = 0\n",
    "            for l in range(o+1):\n",
    "                srt = srt + wlist[m+x]\n",
    "                x+=1\n",
    "            poss.append(srt)\n",
    "print(poss)\n",
    "print(len(poss))"
   ]
  },
  {
   "cell_type": "code",
   "execution_count": 3,
   "metadata": {},
   "outputs": [
    {
     "name": "stdout",
     "output_type": "stream",
     "text": [
      "['B', 'A', 'N', 'A', 'N', 'A', 'BA', 'AN', 'NA', 'AN', 'NA', 'BAN', 'ANA', 'NAN', 'ANA', 'BANA', 'ANAN', 'NANA', 'BANAN', 'ANANA', 'BANANA']\n",
      "21\n"
     ]
    }
   ],
   "source": [
    "wlist = ['B','A','N','A','N','A']\n",
    "n = len(wlist)\n",
    "poss = []\n",
    "for o in range(len(wlist)):\n",
    "    if o==0:\n",
    "        for k in range(len(wlist)):\n",
    "            poss.append(wlist[k])\n",
    "    elif o>0:\n",
    "        for m in range(n-o):\n",
    "            srt = ''\n",
    "            x = 0\n",
    "            for l in range(o+1):\n",
    "                srt = srt + wlist[m+x]\n",
    "                x+=1\n",
    "            poss.append(srt)\n",
    "print(poss)\n",
    "print(len(poss))"
   ]
  },
  {
   "cell_type": "code",
   "execution_count": null,
   "metadata": {},
   "outputs": [],
   "source": []
  }
 ],
 "metadata": {
  "kernelspec": {
   "display_name": "Python 3",
   "language": "python",
   "name": "python3"
  },
  "language_info": {
   "codemirror_mode": {
    "name": "ipython",
    "version": 3
   },
   "file_extension": ".py",
   "mimetype": "text/x-python",
   "name": "python",
   "nbconvert_exporter": "python",
   "pygments_lexer": "ipython3",
   "version": "3.7.3"
  }
 },
 "nbformat": 4,
 "nbformat_minor": 2
}
