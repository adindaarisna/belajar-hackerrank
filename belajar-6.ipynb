{
 "cells": [
  {
   "cell_type": "markdown",
   "metadata": {},
   "source": [
    "## Question: sWAP cASE"
   ]
  },
  {
   "cell_type": "raw",
   "metadata": {},
   "source": [
    "You are given a string and your task is to swap cases. In other words, convert all lowercase letters to uppercase letters and vice versa.\n",
    "For Example:\n",
    "Www.HackerRank.com → wWW.hACKERrANK.COM\n",
    "Pythonist 2 → pYTHONIST 2\n",
    "\n",
    "Input Format\n",
    "A single line containing a string .\n",
    "\n",
    "Constraints\n",
    "0<len(s)<=1000\n",
    "\n",
    "Output Format\n",
    "Print the modified string .\n",
    "\n",
    "Sample Input 0\n",
    "HackerRank.com presents \"Pythonist 2\".\n",
    "\n",
    "Sample Output 0\n",
    "hACKERrANK.COM PRESENTS \"pYTHONIST 2\"."
   ]
  },
  {
   "cell_type": "markdown",
   "metadata": {},
   "source": [
    "## Answer "
   ]
  },
  {
   "cell_type": "code",
   "execution_count": 17,
   "metadata": {},
   "outputs": [
    {
     "name": "stdout",
     "output_type": "stream",
     "text": [
      "HackerRank.com presents \"Pythonist 2\".\n",
      "hACKERrANK.COM PRESENTS \"pYTHONIST 2\".\n"
     ]
    }
   ],
   "source": [
    "def swap_case(s):\n",
    "    ress=''\n",
    "    for i in range(len(s)):\n",
    "        if s[i].isupper():\n",
    "            ress = ress + s[i].lower()\n",
    "        elif s[i].islower():\n",
    "            ress=ress+s[i].upper()\n",
    "        else:\n",
    "            ress=ress+s[i]\n",
    "    return ress\n",
    "\n",
    "if __name__ == '__main__':\n",
    "    s = input()\n",
    "    result = swap_case(s)\n",
    "    print(result)"
   ]
  },
  {
   "cell_type": "code",
   "execution_count": 15,
   "metadata": {},
   "outputs": [
    {
     "name": "stdout",
     "output_type": "stream",
     "text": [
      "hACKERrANK.COM PRESENTS \"pYTHONIST 2\".\n"
     ]
    }
   ],
   "source": [
    "s='HackerRank.com presents \"Pythonist 2\".'\n",
    "ress=''\n",
    "for i in range(len(s)):\n",
    "    if s[i].isupper():\n",
    "        ress = ress + s[i].lower()\n",
    "    elif s[i].islower():\n",
    "        ress=ress+s[i].upper()\n",
    "    else:\n",
    "        ress=ress+s[i]\n",
    "print(ress)"
   ]
  }
 ],
 "metadata": {
  "kernelspec": {
   "display_name": "Python 3",
   "language": "python",
   "name": "python3"
  },
  "language_info": {
   "codemirror_mode": {
    "name": "ipython",
    "version": 3
   },
   "file_extension": ".py",
   "mimetype": "text/x-python",
   "name": "python",
   "nbconvert_exporter": "python",
   "pygments_lexer": "ipython3",
   "version": "3.7.3"
  }
 },
 "nbformat": 4,
 "nbformat_minor": 2
}
