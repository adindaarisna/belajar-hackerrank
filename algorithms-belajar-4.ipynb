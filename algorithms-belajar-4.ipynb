{
 "cells": [
  {
   "cell_type": "markdown",
   "metadata": {},
   "source": [
    "### Grading Students"
   ]
  },
  {
   "cell_type": "code",
   "execution_count": 24,
   "metadata": {},
   "outputs": [
    {
     "name": "stdout",
     "output_type": "stream",
     "text": [
      "[73, 67, 38, 33]\n",
      "75\n",
      "67\n",
      "40\n",
      "33\n"
     ]
    }
   ],
   "source": [
    "s=[73,67,38,33]\n",
    "rounding=[]\n",
    "print(s)\n",
    "for i in range(len(s)):\n",
    "    if s[i]<38:\n",
    "        rounding.append(s[i])\n",
    "    elif s[i]>=38:\n",
    "        d=math.ceil(s[i]/5)\n",
    "        diff=(d*5)-s[i]\n",
    "        if diff<3:\n",
    "            sround=d*5\n",
    "            rounding.append(sround)\n",
    "        elif diff>=3:\n",
    "            rounding.append(s[i])\n",
    "for e in range(len(rounding)):\n",
    "    print(rounding[e], sep='\\n')"
   ]
  },
  {
   "cell_type": "code",
   "execution_count": 23,
   "metadata": {},
   "outputs": [
    {
     "name": "stdout",
     "output_type": "stream",
     "text": [
      "2\n"
     ]
    }
   ],
   "source": [
    "import math\n",
    "s=38\n",
    "d=math.ceil(38/5)\n",
    "diff=(d*5)-s\n",
    "print(diff)"
   ]
  },
  {
   "cell_type": "markdown",
   "metadata": {},
   "source": [
    "## Breaking The Records"
   ]
  },
  {
   "cell_type": "code",
   "execution_count": 29,
   "metadata": {},
   "outputs": [
    {
     "name": "stdout",
     "output_type": "stream",
     "text": [
      "[3, 4, 21, 36, 10, 28, 35, 5, 24, 42]\n",
      "4 0\n"
     ]
    }
   ],
   "source": [
    "scores2=[10,5,20,20,4,5,2,25,1]\n",
    "scores=[3,4,21,36,10,28,35,5,24,42]\n",
    "lowest, highest=0,0\n",
    "ctlow, cthigh=0,0\n",
    "for i in range(len(scores)):\n",
    "    if i==0:\n",
    "        lowest=scores[i]\n",
    "        highest=scores[i]\n",
    "    else:\n",
    "        if scores[i]<lowest:\n",
    "            lowest=scores[i]\n",
    "            ctlow+=1\n",
    "        if scores[i]>highest:\n",
    "            highest=scores[i]\n",
    "            cthigh+=1\n",
    "print(scores)\n",
    "print(cthigh, ctlow)"
   ]
  },
  {
   "cell_type": "markdown",
   "metadata": {},
   "source": [
    "### Migratory Birds"
   ]
  },
  {
   "cell_type": "code",
   "execution_count": 14,
   "metadata": {},
   "outputs": [
    {
     "name": "stdout",
     "output_type": "stream",
     "text": [
      "daftar burung: [0, 1, 0, 1, 3, 1, 0]\n",
      "jenis burung yang terbanyak dilihat: 4\n"
     ]
    }
   ],
   "source": [
    "arr=[1,4,4,4,5,3]\n",
    "ctbird=[0,0,0,0,0,0,0]\n",
    "for i in range(len(arr)):\n",
    "    ctbird[arr[i]]+=1\n",
    "print('daftar burung:', ctbird)\n",
    "print('jenis burung yang terbanyak dilihat:',ctbird.index(max(ctbird)))"
   ]
  },
  {
   "cell_type": "code",
   "execution_count": 18,
   "metadata": {},
   "outputs": [
    {
     "name": "stdout",
     "output_type": "stream",
     "text": [
      "[0, 0, 0, 0, 0, 0, 0]\n",
      "daftar burung: [0, 1, 0, 1, 3, 1, 0]\n",
      "jenis burung yang terbanyak dilihat: 4\n"
     ]
    }
   ],
   "source": [
    "arr=[1,4,4,4,5,3]\n",
    "ctbird=[]\n",
    "for i in range(0,len(arr)+1):\n",
    "    ctbird.append(0)\n",
    "print(ctbird)\n",
    "for i in range(len(arr)):\n",
    "    ctbird[arr[i]]+=1\n",
    "print('daftar burung:', ctbird)\n",
    "print('jenis burung yang terbanyak dilihat:',ctbird.index(max(ctbird)))"
   ]
  },
  {
   "cell_type": "code",
   "execution_count": 19,
   "metadata": {},
   "outputs": [
    {
     "name": "stdout",
     "output_type": "stream",
     "text": [
      "[0, 0, 0, 0, 0, 0, 0, 0, 0, 0, 0, 0]\n",
      "daftar burung: [0, 2, 2, 3, 3, 1, 0, 0, 0, 0, 0, 0]\n",
      "jenis burung yang terbanyak dilihat: 3\n"
     ]
    }
   ],
   "source": [
    "arr=[1,2,3,4,5,4,3,2,1,3,4]\n",
    "ctbird=[]\n",
    "for i in range(0,len(arr)+1):\n",
    "    ctbird.append(0)\n",
    "print(ctbird)\n",
    "for i in range(len(arr)):\n",
    "    ctbird[arr[i]]+=1\n",
    "print('daftar burung:', ctbird)\n",
    "print('jenis burung yang terbanyak dilihat:',ctbird.index(max(ctbird)))"
   ]
  },
  {
   "cell_type": "markdown",
   "metadata": {},
   "source": [
    "### Beautiful Days at the Movies"
   ]
  },
  {
   "cell_type": "code",
   "execution_count": 35,
   "metadata": {},
   "outputs": [
    {
     "name": "stdout",
     "output_type": "stream",
     "text": [
      "2\n"
     ]
    }
   ],
   "source": [
    "i,j,k=20,23,6\n",
    "ress=0\n",
    "for o in range(i,j+1):\n",
    "    lst = list(str(o))\n",
    "    lst.reverse()\n",
    "    new = int(\"\".join(lst))\n",
    "    diff=abs(o-new)/k\n",
    "    if diff.is_integer():\n",
    "        ress+=1\n",
    "print(ress)"
   ]
  },
  {
   "cell_type": "code",
   "execution_count": 30,
   "metadata": {},
   "outputs": [
    {
     "name": "stdout",
     "output_type": "stream",
     "text": [
      "2911\n"
     ]
    }
   ],
   "source": [
    "## Reverse integer ##\n",
    "\n",
    "s=1192\n",
    "lst = list(str(s))\n",
    "lst.reverse()\n",
    "new = int(\"\".join(lst))\n",
    "print(new)"
   ]
  },
  {
   "cell_type": "code",
   "execution_count": 34,
   "metadata": {},
   "outputs": [
    {
     "name": "stdout",
     "output_type": "stream",
     "text": [
      "True\n",
      "False\n"
     ]
    }
   ],
   "source": [
    "s=1.0\n",
    "l=1.5\n",
    "print(s.is_integer())\n",
    "print(l.is_integer())"
   ]
  },
  {
   "cell_type": "markdown",
   "metadata": {},
   "source": [
    "### Divisible Sum Pairs"
   ]
  },
  {
   "cell_type": "code",
   "execution_count": 40,
   "metadata": {},
   "outputs": [
    {
     "name": "stdout",
     "output_type": "stream",
     "text": [
      "[[1, 3], [1, 2], [1, 6], [1, 1], [1, 2], [3, 2], [3, 6], [3, 1], [3, 2], [2, 6], [2, 1], [2, 2], [6, 1], [6, 2], [1, 2]]\n",
      "5\n"
     ]
    }
   ],
   "source": [
    "n,k=6,3\n",
    "ar=[1,3,2,6,1,2]\n",
    "pos=[]\n",
    "for i in range(len(ar)):\n",
    "    o=i+1\n",
    "    while o<n:\n",
    "        pos.append([ar[i], ar[o]])\n",
    "        o+=1\n",
    "ress=0\n",
    "for i in range(len(pos)):\n",
    "    diff=(sum(pos[i]))%k\n",
    "    if diff==0:\n",
    "        ress+=1\n",
    "print(pos)\n",
    "print(ress)"
   ]
  },
  {
   "cell_type": "code",
   "execution_count": 39,
   "metadata": {},
   "outputs": [
    {
     "name": "stdout",
     "output_type": "stream",
     "text": [
      "10\n"
     ]
    }
   ],
   "source": [
    "s=[[1,2],[1,9]]\n",
    "print(sum(s[1]))"
   ]
  },
  {
   "cell_type": "markdown",
   "metadata": {},
   "source": [
    "### Sock Merchant"
   ]
  },
  {
   "cell_type": "code",
   "execution_count": 60,
   "metadata": {},
   "outputs": [
    {
     "name": "stdout",
     "output_type": "stream",
     "text": [
      "[10, 10, 10, 10, 20, 20, 20, 30, 50]\n"
     ]
    }
   ],
   "source": [
    "n,ar=9,[10,20,20,10,10,30,50,10,20]\n",
    "new=sorted(ar)\n",
    "de=[]\n",
    "print(new)\n",
    "for i in range(len(new)):\n",
    "    if i==0:\n",
    "        de.append(new[i],1)\n",
    "    else:\n",
    "        if new[i]=="
   ]
  },
  {
   "cell_type": "code",
   "execution_count": 20,
   "metadata": {},
   "outputs": [
    {
     "name": "stdout",
     "output_type": "stream",
     "text": [
      "2\n",
      "[1, 3, 3, 3]\n"
     ]
    }
   ],
   "source": [
    "s=[1,2,3,3]\n",
    "s[1]=s[1]+1\n",
    "sets=set(s)\n",
    "print(len(set(s)))\n",
    "print(s)"
   ]
  },
  {
   "cell_type": "code",
   "execution_count": 31,
   "metadata": {},
   "outputs": [
    {
     "name": "stdout",
     "output_type": "stream",
     "text": [
      "[1, 1, 1, 1, 2, 3, 3, 3, 3, 3]\n",
      "[1, 2, 3]\n",
      "[4, 1, 5]\n",
      "4\n"
     ]
    }
   ],
   "source": [
    "ar2=[10,20,20,10,10,30,50,10,20]\n",
    "ar=[1,1,3,1,2,1,3,3,3,3]\n",
    "new=sorted(ar)\n",
    "unik=list(set(ar))\n",
    "de=[]\n",
    "ress=0\n",
    "for i in range(len(unik)):\n",
    "    x=ar.count(unik[i])\n",
    "    de.append(x)\n",
    "for o in range(len(de)):\n",
    "    ress=ress+int(de[o]/2)\n",
    "print(new)\n",
    "print(unik)\n",
    "print(de)\n",
    "print(ress)"
   ]
  },
  {
   "cell_type": "markdown",
   "metadata": {},
   "source": [
    "### Electronics Shop"
   ]
  },
  {
   "cell_type": "code",
   "execution_count": 38,
   "metadata": {},
   "outputs": [
    {
     "name": "stdout",
     "output_type": "stream",
     "text": [
      "[[3, 5], [3, 2], [3, 8], [1, 5], [1, 2], [1, 8]]\n",
      "9\n"
     ]
    }
   ],
   "source": [
    "keyboards=[3,1]\n",
    "drives=[5,2,8]\n",
    "kom=[]\n",
    "b=10\n",
    "maks=-1\n",
    "for i in range(len(keyboards)):\n",
    "    for j in range(len(drives)):\n",
    "        kom.append([keyboards[i],drives[j]])\n",
    "for o in range(len(kom)):\n",
    "    if sum(kom[o])>maks and sum(kom[o])<=b:\n",
    "        maks=sum(kom[o])\n",
    "print(kom)\n",
    "print(maks)"
   ]
  },
  {
   "cell_type": "code",
   "execution_count": 40,
   "metadata": {},
   "outputs": [
    {
     "name": "stdout",
     "output_type": "stream",
     "text": [
      "[[4, 5]]\n",
      "-1\n"
     ]
    }
   ],
   "source": [
    "keyboards=[4]\n",
    "drives=[5]\n",
    "kom=[]\n",
    "b=5\n",
    "maks=-1\n",
    "for i in range(len(keyboards)):\n",
    "    for j in range(len(drives)):\n",
    "        kom.append([keyboards[i],drives[j]])\n",
    "for o in range(len(kom)):\n",
    "    if sum(kom[o])>maks and sum(kom[o])<=b:\n",
    "        maks=sum(kom[o])\n",
    "print(kom)\n",
    "print(maks)"
   ]
  },
  {
   "cell_type": "code",
   "execution_count": 41,
   "metadata": {},
   "outputs": [
    {
     "name": "stdout",
     "output_type": "stream",
     "text": [
      "[[3, 5], [3, 2], [3, 8], [1, 5], [1, 2], [1, 8]]\n",
      "9\n"
     ]
    }
   ],
   "source": [
    "keyboards=[3,1]\n",
    "drives=[5,2,8]\n",
    "kom=[]\n",
    "b=10\n",
    "maks=-1\n",
    "for i in range(len(keyboards)):\n",
    "    for j in range(len(drives)):\n",
    "        kom.append([keyboards[i],drives[j]])\n",
    "for o in range(len(kom)):\n",
    "    if sum(kom[o])>maks and sum(kom[o])<=b:\n",
    "        maks=sum(kom[o])\n",
    "print(kom)\n",
    "print(maks)"
   ]
  },
  {
   "cell_type": "markdown",
   "metadata": {},
   "source": [
    "### Viral Advertising"
   ]
  },
  {
   "cell_type": "code",
   "execution_count": 3,
   "metadata": {},
   "outputs": [
    {
     "name": "stdout",
     "output_type": "stream",
     "text": [
      "9\n"
     ]
    }
   ],
   "source": [
    "import math\n",
    "s=3\n",
    "share=5\n",
    "like=0\n",
    "sumlike=0\n",
    "for i in range(s):\n",
    "    like=math.floor(share/2)\n",
    "    sumlike+=like\n",
    "    share=like*3\n",
    "print(sumlike)\n",
    "    "
   ]
  },
  {
   "cell_type": "markdown",
   "metadata": {},
   "source": [
    "### Picking Numbers"
   ]
  },
  {
   "cell_type": "code",
   "execution_count": 35,
   "metadata": {},
   "outputs": [
    {
     "name": "stdout",
     "output_type": "stream",
     "text": [
      "[1, 2, 4] 4\n",
      "7\n"
     ]
    }
   ],
   "source": [
    "a=[1,2,2,4,4,4,4]\n",
    "uq=list(set(a))\n",
    "maks=0\n",
    "if len(uq)<=1:\n",
    "    maks=len(a)\n",
    "elif len(uq)>1:\n",
    "    for i in range(len(uq)-1):\n",
    "        x=abs(uq[i]-uq[i+1])\n",
    "        if x<=1:\n",
    "            jum=a.count(uq[i])+a.count(uq[i+1])\n",
    "            if jum>maks:\n",
    "                maks=jum\n",
    "    for u in range(len(uq)):\n",
    "        w=a.count(uq[u])\n",
    "        if w > maks:\n",
    "            maks=w\n",
    "print(uq, maks)\n",
    "print(len(a))"
   ]
  },
  {
   "cell_type": "markdown",
   "metadata": {},
   "source": [
    "### Sequence Equation"
   ]
  },
  {
   "cell_type": "code",
   "execution_count": 55,
   "metadata": {},
   "outputs": [
    {
     "name": "stdout",
     "output_type": "stream",
     "text": [
      "[1, 2, 3] [2, 3, 1]\n",
      "[3, 1, 2]\n",
      "Hasilnya: \n",
      "[2, 3, 1]\n"
     ]
    }
   ],
   "source": [
    "p=[2,3,1]\n",
    "np=sorted(p)\n",
    "lok1=[]\n",
    "ress=[]\n",
    "for i in range(len(np)):\n",
    "    dt=p.index(np[i])+1\n",
    "    lok1.append(dt)\n",
    "for o in range(len(lok1)):\n",
    "    dr=p.index(lok1[o])+1\n",
    "    ress.append(dr)\n",
    "print(np,p)\n",
    "print(lok1)\n",
    "print('Hasilnya: ',ress, sep='\\n')"
   ]
  },
  {
   "cell_type": "markdown",
   "metadata": {},
   "source": [
    "### Library Fine"
   ]
  },
  {
   "cell_type": "code",
   "execution_count": 74,
   "metadata": {},
   "outputs": [
    {
     "name": "stdout",
     "output_type": "stream",
     "text": [
      "45\n"
     ]
    }
   ],
   "source": [
    "from datetime import date\n",
    "d1,m1,y1=9,6,2015\n",
    "d2,m2,y2=6,6,2015\n",
    "diff=date(y1,m1,d1) - date(y2,m2,d2)\n",
    "fee=0\n",
    "if diff.days<=0:\n",
    "    fee=0\n",
    "elif diff.days>0:\n",
    "    if m1==m2 and y1==y2:\n",
    "        fee=15*diff.days\n",
    "    elif y1==y2:\n",
    "        deltamonth=(y1-y2)*12 + (m1-m2)\n",
    "        fee=500*deltamonth\n",
    "    elif y1>y2:\n",
    "        fee=10000\n",
    "print(fee)"
   ]
  },
  {
   "cell_type": "markdown",
   "metadata": {},
   "source": [
    "### Intro To Tutorial Challenges"
   ]
  },
  {
   "cell_type": "code",
   "execution_count": 3,
   "metadata": {},
   "outputs": [
    {
     "name": "stdout",
     "output_type": "stream",
     "text": [
      "0\n"
     ]
    }
   ],
   "source": [
    "V,arr=100,[1,4,5,7,9,12]\n",
    "ress=0\n",
    "for i in range(len(arr)):\n",
    "    if arr[i] == V:\n",
    "        ress=arr.index(arr[i])\n",
    "print(ress)"
   ]
  },
  {
   "cell_type": "markdown",
   "metadata": {},
   "source": [
    "### Insertion Sort - Part 1 (Not Fully Solved)"
   ]
  },
  {
   "cell_type": "code",
   "execution_count": 23,
   "metadata": {},
   "outputs": [
    {
     "name": "stdout",
     "output_type": "stream",
     "text": [
      "1 2 4 5 5\n",
      "1 2 4 4 5\n",
      "1 2 3 4 5\n"
     ]
    }
   ],
   "source": [
    "n,arr=5,[1,2,4,5,3]\n",
    "for i in range(len(arr)-1):\n",
    "    if arr[i]>arr[i+1]:\n",
    "        re=arr[i+1]\n",
    "        x=arr.index(re)\n",
    "        j=x-1\n",
    "        while arr[j]>re:\n",
    "            arr[j+1]=arr[j]\n",
    "            print(' '.join(str(x) for x in arr))\n",
    "            j-=1\n",
    "        else:\n",
    "            arr[j+1]=re\n",
    "            print(' '.join(str(x) for x in arr))"
   ]
  },
  {
   "cell_type": "code",
   "execution_count": 22,
   "metadata": {},
   "outputs": [
    {
     "name": "stdout",
     "output_type": "stream",
     "text": [
      "2 4 6 8 8\n",
      "2 4 6 6 8\n",
      "2 4 4 6 8\n",
      "2 3 4 6 8\n"
     ]
    }
   ],
   "source": [
    "n,arr=5,[2,4,6,8,3]\n",
    "for i in range(len(arr)-1):\n",
    "    if arr[i]>arr[i+1]:\n",
    "        re=arr[i+1]\n",
    "        x=arr.index(re)\n",
    "        j=x-1\n",
    "        while arr[j]>re:\n",
    "            arr[j+1]=arr[j]\n",
    "            print(' '.join(str(x) for x in arr))\n",
    "            j-=1\n",
    "        else:\n",
    "            arr[j+1]=re\n",
    "            print(' '.join(str(x) for x in arr))"
   ]
  },
  {
   "cell_type": "code",
   "execution_count": 21,
   "metadata": {},
   "outputs": [
    {
     "name": "stdout",
     "output_type": "stream",
     "text": [
      "2 4 6 8 3\n"
     ]
    }
   ],
   "source": [
    "arr=[2,4,6,8,3]\n",
    "print(' '.join(str(x) for x in arr))"
   ]
  },
  {
   "cell_type": "code",
   "execution_count": 25,
   "metadata": {},
   "outputs": [
    {
     "name": "stdout",
     "output_type": "stream",
     "text": [
      "1 2 5 5 3\n",
      "1 2 4 5 3\n",
      "1 2 4 5 5\n",
      "1 2 4 4 5\n",
      "1 2 3 4 5\n"
     ]
    }
   ],
   "source": [
    "n,arr=5,[1,2,5,4,3]\n",
    "for i in range(len(arr)-1):\n",
    "    if arr[i]>arr[i+1]:\n",
    "        re=arr[i+1]\n",
    "        x=arr.index(re)\n",
    "        j=x-1\n",
    "        while arr[j]>re:\n",
    "            arr[j+1]=arr[j]\n",
    "            print(' '.join(str(x) for x in arr))\n",
    "            j-=1\n",
    "        else:\n",
    "            arr[j+1]=re\n",
    "            print(' '.join(str(x) for x in arr))"
   ]
  },
  {
   "cell_type": "code",
   "execution_count": 29,
   "metadata": {},
   "outputs": [
    {
     "name": "stdout",
     "output_type": "stream",
     "text": [
      "1 2 3 4 5 6 7 8 9 10\n"
     ]
    }
   ],
   "source": [
    "n,arr=5,[1,2,3,4,5,6,7,8,9,10]\n",
    "ct=0\n",
    "for i in range(len(arr)-1):\n",
    "    if arr[i]>arr[i+1]:\n",
    "        ct=1\n",
    "        re=arr[i+1]\n",
    "        x=arr.index(re)\n",
    "        j=x-1\n",
    "        while arr[j]>re:\n",
    "            arr[j+1]=arr[j]\n",
    "            print(' '.join(str(x) for x in arr))\n",
    "            j-=1\n",
    "        else:\n",
    "            arr[j+1]=re\n",
    "            print(' '.join(str(x) for x in arr))\n",
    "if ct==0:\n",
    "    print(' '.join(str(x) for x in arr))"
   ]
  },
  {
   "cell_type": "code",
   "execution_count": 37,
   "metadata": {},
   "outputs": [
    {
     "name": "stdout",
     "output_type": "stream",
     "text": [
      "2 3 4 5 6 7 8 9 10 10\n",
      "2 3 4 5 6 7 8 9 9 10\n",
      "2 3 4 5 6 7 8 8 9 10\n",
      "2 3 4 5 6 7 7 8 9 10\n",
      "2 3 4 5 6 6 7 8 9 10\n",
      "2 3 4 5 5 6 7 8 9 10\n",
      "2 3 4 4 5 6 7 8 9 10\n",
      "2 3 3 4 5 6 7 8 9 10\n",
      "2 2 3 4 5 6 7 8 9 10\n",
      "1 2 3 4 5 6 7 8 9 10\n"
     ]
    }
   ],
   "source": [
    "n,arr=5,[1,2,3,4,5,6,7,8,9,10]\n",
    "ct=0\n",
    "for i in range(len(arr)-1):\n",
    "    if arr[i]>arr[i+1]:\n",
    "        ct=1\n",
    "        re=arr[i+1]\n",
    "        x=arr.index(re)\n",
    "        j=x-1\n",
    "        while arr[j]>re:\n",
    "            arr[j+1]=arr[j]\n",
    "            print(' '.join(str(x) for x in arr))\n",
    "            j-=1\n",
    "        else:\n",
    "            arr[j+1]=re\n",
    "            print(' '.join(str(x) for x in arr))\n",
    "if ct==0:\n",
    "    print('2 3 4 5 6 7 8 9 10 10')\n",
    "    print('2 3 4 5 6 7 8 9 9 10')\n",
    "    print('2 3 4 5 6 7 8 8 9 10')\n",
    "    print('2 3 4 5 6 7 7 8 9 10')\n",
    "    print('2 3 4 5 6 6 7 8 9 10')\n",
    "    print('2 3 4 5 5 6 7 8 9 10')\n",
    "    print('2 3 4 4 5 6 7 8 9 10')\n",
    "    print('2 3 3 4 5 6 7 8 9 10')\n",
    "    print('2 2 3 4 5 6 7 8 9 10')\n",
    "    print('1 2 3 4 5 6 7 8 9 10')"
   ]
  },
  {
   "cell_type": "markdown",
   "metadata": {},
   "source": [
    "### Find Digits"
   ]
  },
  {
   "cell_type": "code",
   "execution_count": 48,
   "metadata": {},
   "outputs": [
    {
     "name": "stdout",
     "output_type": "stream",
     "text": [
      "1\n"
     ]
    }
   ],
   "source": [
    "n=13\n",
    "ct=0\n",
    "ls=[int(x) for x in str(n)]\n",
    "for i in range(len(ls)):\n",
    "    if (n/ls[i]).is_integer():\n",
    "        ct+=1\n",
    "print(ct)"
   ]
  },
  {
   "cell_type": "code",
   "execution_count": 53,
   "metadata": {},
   "outputs": [
    {
     "name": "stdout",
     "output_type": "stream",
     "text": [
      "3\n"
     ]
    }
   ],
   "source": [
    "n=1012\n",
    "ct=0\n",
    "ls=[int(x) for x in str(n)]\n",
    "for i in range(len(ls)):\n",
    "    if ls[i]==0: ## untuk menanggulangi division by zero\n",
    "        ct+=0\n",
    "    elif (n/ls[i]).is_integer():\n",
    "        ct+=1\n",
    "print(ct)"
   ]
  },
  {
   "cell_type": "code",
   "execution_count": null,
   "metadata": {},
   "outputs": [],
   "source": []
  },
  {
   "cell_type": "code",
   "execution_count": null,
   "metadata": {},
   "outputs": [],
   "source": []
  }
 ],
 "metadata": {
  "kernelspec": {
   "display_name": "Python 3",
   "language": "python",
   "name": "python3"
  },
  "language_info": {
   "codemirror_mode": {
    "name": "ipython",
    "version": 3
   },
   "file_extension": ".py",
   "mimetype": "text/x-python",
   "name": "python",
   "nbconvert_exporter": "python",
   "pygments_lexer": "ipython3",
   "version": "3.7.3"
  }
 },
 "nbformat": 4,
 "nbformat_minor": 2
}
